{
 "cells": [
  {
   "cell_type": "code",
   "execution_count": 1,
   "id": "85e2fc6e-9aa4-4e17-9bcc-3b04643a8440",
   "metadata": {
    "scrolled": true
   },
   "outputs": [
    {
     "name": "stdout",
     "output_type": "stream",
     "text": [
      "Requirement already satisfied: transformers in /Users/fahmisyaifudin/miniconda3/envs/nlp/lib/python3.12/site-packages (4.39.3)\n",
      "Requirement already satisfied: filelock in /Users/fahmisyaifudin/miniconda3/envs/nlp/lib/python3.12/site-packages (from transformers) (3.13.3)\n",
      "Requirement already satisfied: huggingface-hub<1.0,>=0.19.3 in /Users/fahmisyaifudin/miniconda3/envs/nlp/lib/python3.12/site-packages (from transformers) (0.22.2)\n",
      "Requirement already satisfied: numpy>=1.17 in /Users/fahmisyaifudin/miniconda3/envs/nlp/lib/python3.12/site-packages (from transformers) (1.26.4)\n",
      "Requirement already satisfied: packaging>=20.0 in /Users/fahmisyaifudin/miniconda3/envs/nlp/lib/python3.12/site-packages (from transformers) (23.2)\n",
      "Requirement already satisfied: pyyaml>=5.1 in /Users/fahmisyaifudin/miniconda3/envs/nlp/lib/python3.12/site-packages (from transformers) (6.0.1)\n",
      "Requirement already satisfied: regex!=2019.12.17 in /Users/fahmisyaifudin/miniconda3/envs/nlp/lib/python3.12/site-packages (from transformers) (2023.12.25)\n",
      "Requirement already satisfied: requests in /Users/fahmisyaifudin/miniconda3/envs/nlp/lib/python3.12/site-packages (from transformers) (2.31.0)\n",
      "Requirement already satisfied: tokenizers<0.19,>=0.14 in /Users/fahmisyaifudin/miniconda3/envs/nlp/lib/python3.12/site-packages (from transformers) (0.15.2)\n",
      "Requirement already satisfied: safetensors>=0.4.1 in /Users/fahmisyaifudin/miniconda3/envs/nlp/lib/python3.12/site-packages (from transformers) (0.4.2)\n",
      "Requirement already satisfied: tqdm>=4.27 in /Users/fahmisyaifudin/miniconda3/envs/nlp/lib/python3.12/site-packages (from transformers) (4.66.2)\n",
      "Requirement already satisfied: fsspec>=2023.5.0 in /Users/fahmisyaifudin/miniconda3/envs/nlp/lib/python3.12/site-packages (from huggingface-hub<1.0,>=0.19.3->transformers) (2024.3.1)\n",
      "Requirement already satisfied: typing-extensions>=3.7.4.3 in /Users/fahmisyaifudin/miniconda3/envs/nlp/lib/python3.12/site-packages (from huggingface-hub<1.0,>=0.19.3->transformers) (4.9.0)\n",
      "Requirement already satisfied: charset-normalizer<4,>=2 in /Users/fahmisyaifudin/miniconda3/envs/nlp/lib/python3.12/site-packages (from requests->transformers) (2.0.4)\n",
      "Requirement already satisfied: idna<4,>=2.5 in /Users/fahmisyaifudin/miniconda3/envs/nlp/lib/python3.12/site-packages (from requests->transformers) (3.4)\n",
      "Requirement already satisfied: urllib3<3,>=1.21.1 in /Users/fahmisyaifudin/miniconda3/envs/nlp/lib/python3.12/site-packages (from requests->transformers) (2.1.0)\n",
      "Requirement already satisfied: certifi>=2017.4.17 in /Users/fahmisyaifudin/miniconda3/envs/nlp/lib/python3.12/site-packages (from requests->transformers) (2024.2.2)\n"
     ]
    }
   ],
   "source": [
    "!pip install transformers"
   ]
  },
  {
   "cell_type": "code",
   "execution_count": 5,
   "id": "21e97f6e-c922-4203-9daa-ccecdb56cbef",
   "metadata": {
    "scrolled": true
   },
   "outputs": [],
   "source": [
    "from transformers import AutoTokenizer, AutoModel\n",
    "import torch\n",
    "tokenizer = AutoTokenizer.from_pretrained(\"indolem/indobert-base-uncased\")\n",
    "model = AutoModel.from_pretrained(\"indolem/indobert-base-uncased\")"
   ]
  },
  {
   "cell_type": "code",
   "execution_count": 6,
   "id": "4fb6c2c3-abf8-4c03-b63f-7a53417655e8",
   "metadata": {},
   "outputs": [],
   "source": [
    "sentence = 'PEMANFAATAN HARTA ZAKAT UNTUK PENANGGULANGAN BENCANA DAN DAMPAKNYA'\n",
    "sentence2 = 'PENYALURAN HARTA ZAKAT DALAM BENTUK ASET KELOLAAN'"
   ]
  },
  {
   "cell_type": "code",
   "execution_count": 7,
   "id": "a37c9628-89b6-41cd-8a7e-2c5ebdb7339f",
   "metadata": {},
   "outputs": [],
   "source": [
    "import numpy as np\n",
    "from numpy.linalg import norm\n",
    "\n",
    "def get_embeddings(text, token_length):\n",
    "    tokens=tokenizer(text,max_length=token_length,padding='max_length',truncation=True)\n",
    "    output=model(torch.tensor(tokens.input_ids).unsqueeze(0),\n",
    "                 attention_mask=torch.tensor(tokens.attention_mask).unsqueeze(0))\n",
    "    return output[1][0].detach().numpy()\n",
    "\n",
    "def calc_cosine_similarity(array1, array2):\n",
    "    return np.dot(array1, array2)/(norm(array1)*norm(array2))"
   ]
  },
  {
   "cell_type": "code",
   "execution_count": 8,
   "id": "7cf23130-a3ae-44c2-a2e5-f2a0481aff87",
   "metadata": {},
   "outputs": [
    {
     "name": "stdout",
     "output_type": "stream",
     "text": [
      "Token id: [3, 9345, 5255, 9305, 1559, 11091, 4686, 1501, 14518, 4, 0, 0, 0, 0, 0, 0, 0, 0, 0, 0]\n",
      "Attention mask : [1, 1, 1, 1, 1, 1, 1, 1, 1, 1, 0, 0, 0, 0, 0, 0, 0, 0, 0, 0]\n",
      "Token id: [3, 13149, 5255, 9305, 1558, 2479, 6088, 21533, 1476, 4, 0, 0, 0, 0, 0, 0, 0, 0, 0, 0]\n",
      "Attention mask : [1, 1, 1, 1, 1, 1, 1, 1, 1, 1, 0, 0, 0, 0, 0, 0, 0, 0, 0, 0]\n"
     ]
    }
   ],
   "source": [
    "out1 = get_embeddings(sentence, 20)\n",
    "out2 = get_embeddings(sentence2, 20)"
   ]
  },
  {
   "cell_type": "code",
   "execution_count": 9,
   "id": "686c02d0-77e9-4262-b98a-9eb3ea68a639",
   "metadata": {},
   "outputs": [
    {
     "name": "stdout",
     "output_type": "stream",
     "text": [
      "0.68685764\n"
     ]
    }
   ],
   "source": [
    "print(calc_cosine_similarity(out1, out2))"
   ]
  },
  {
   "cell_type": "code",
   "execution_count": null,
   "id": "225e2883-102f-4f9e-910c-92111c78c444",
   "metadata": {},
   "outputs": [],
   "source": []
  }
 ],
 "metadata": {
  "kernelspec": {
   "display_name": "Python 3 (ipykernel)",
   "language": "python",
   "name": "python3"
  },
  "language_info": {
   "codemirror_mode": {
    "name": "ipython",
    "version": 3
   },
   "file_extension": ".py",
   "mimetype": "text/x-python",
   "name": "python",
   "nbconvert_exporter": "python",
   "pygments_lexer": "ipython3",
   "version": "3.12.2"
  }
 },
 "nbformat": 4,
 "nbformat_minor": 5
}
