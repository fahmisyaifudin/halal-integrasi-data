{
 "cells": [
  {
   "cell_type": "code",
   "execution_count": 37,
   "metadata": {},
   "outputs": [
    {
     "data": {
      "text/plain": [
       "{'hulk': 1, 'ate': 0, 'pizza': 2, 'thor': 3}"
      ]
     },
     "execution_count": 37,
     "metadata": {},
     "output_type": "execute_result"
    }
   ],
   "source": [
    "from sklearn.feature_extraction.text import CountVectorizer\n",
    "\n",
    "v = CountVectorizer()\n",
    "v.fit([\"hulk ate pizza\", \"thor ate pizza\"])\n",
    "v.vocabulary_"
   ]
  },
  {
   "cell_type": "code",
   "execution_count": 38,
   "metadata": {},
   "outputs": [
    {
     "name": "stdout",
     "output_type": "stream",
     "text": [
      "[[1 1 1 0]] [[1 1 1 1]]\n"
     ]
    }
   ],
   "source": [
    "array1 = v.transform([\"hulk ate pizza\"]).toarray()\n",
    "array2 = v.transform([\"thor ate pizza hulk\"]).toarray()\n",
    "\n",
    "print(array1, array2)"
   ]
  },
  {
   "cell_type": "code",
   "execution_count": 39,
   "metadata": {},
   "outputs": [
    {
     "name": "stdout",
     "output_type": "stream",
     "text": [
      "Jaccard Index: 0.75\n",
      "Jaccard Distance: 0.25\n"
     ]
    }
   ],
   "source": [
    "import numpy as np\n",
    "from sklearn.metrics import jaccard_score\n",
    " \n",
    "# predicted values\n",
    "y_pred = np.array(array1).reshape(-1, 1)\n",
    "# true values\n",
    "y_true = np.array(array2).reshape(-1, 1)\n",
    " \n",
    "# Calculate Jaccard Index\n",
    "jaccard_index = jaccard_score(y_true, y_pred)\n",
    " \n",
    "# Calculate Jaccard Distance\n",
    "jaccard_distance = 1 - jaccard_index\n",
    " \n",
    "print(\"Jaccard Index:\", jaccard_index)\n",
    "print(\"Jaccard Distance:\", jaccard_distance)"
   ]
  },
  {
   "cell_type": "code",
   "execution_count": null,
   "metadata": {},
   "outputs": [],
   "source": []
  }
 ],
 "metadata": {
  "kernelspec": {
   "display_name": "nlp",
   "language": "python",
   "name": "python3"
  },
  "language_info": {
   "codemirror_mode": {
    "name": "ipython",
    "version": 3
   },
   "file_extension": ".py",
   "mimetype": "text/x-python",
   "name": "python",
   "nbconvert_exporter": "python",
   "pygments_lexer": "ipython3",
   "version": "3.12.2"
  }
 },
 "nbformat": 4,
 "nbformat_minor": 2
}
