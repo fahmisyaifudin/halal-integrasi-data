{
 "cells": [
  {
   "cell_type": "code",
   "execution_count": 1,
   "id": "7d69ccc0-6f1e-4302-bfae-ce5bff53c0bc",
   "metadata": {},
   "outputs": [],
   "source": [
    "import pandas as pd\n",
    "from transformers import AutoTokenizer, AutoModel\n",
    "import torch\n",
    "import numpy as np\n",
    "from numpy.linalg import norm"
   ]
  },
  {
   "cell_type": "code",
   "execution_count": 2,
   "id": "bfb12bbb-73f5-4be9-add4-afa056d32233",
   "metadata": {},
   "outputs": [
    {
     "data": {
      "text/html": [
       "<div>\n",
       "<style scoped>\n",
       "    .dataframe tbody tr th:only-of-type {\n",
       "        vertical-align: middle;\n",
       "    }\n",
       "\n",
       "    .dataframe tbody tr th {\n",
       "        vertical-align: top;\n",
       "    }\n",
       "\n",
       "    .dataframe thead th {\n",
       "        text-align: right;\n",
       "    }\n",
       "</style>\n",
       "<table border=\"1\" class=\"dataframe\">\n",
       "  <thead>\n",
       "    <tr style=\"text-align: right;\">\n",
       "      <th></th>\n",
       "      <th>No</th>\n",
       "      <th>Judul Fatwa</th>\n",
       "      <th>Tema Fatwa</th>\n",
       "      <th>Nomor Fatwa</th>\n",
       "      <th>Tgl Ditetapkan</th>\n",
       "    </tr>\n",
       "  </thead>\n",
       "  <tbody>\n",
       "    <tr>\n",
       "      <th>0</th>\n",
       "      <td>1</td>\n",
       "      <td>PANDUAN PENYELENGGARAAN IBADAH DI BULAN RAMADA...</td>\n",
       "      <td>Sosial Kemasyarakatan</td>\n",
       "      <td>KEPUTUSAN IJTIMA ULAMA KOMISI FATWA SE-INDONES...</td>\n",
       "      <td>16 December 2003</td>\n",
       "    </tr>\n",
       "    <tr>\n",
       "      <th>1</th>\n",
       "      <td>2</td>\n",
       "      <td>PENGGUNAAN MIKROBA DAN PRODUK MIKROBIAL DALAM ...</td>\n",
       "      <td>POM Iptek</td>\n",
       "      <td>01 Tahun 2010</td>\n",
       "      <td>19 January 2010</td>\n",
       "    </tr>\n",
       "    <tr>\n",
       "      <th>2</th>\n",
       "      <td>3</td>\n",
       "      <td>AIR DAUR ULANG</td>\n",
       "      <td>POM Iptek</td>\n",
       "      <td>02 Tahun 2010</td>\n",
       "      <td>27 January 2010</td>\n",
       "    </tr>\n",
       "    <tr>\n",
       "      <th>3</th>\n",
       "      <td>4</td>\n",
       "      <td>KIBLAT</td>\n",
       "      <td>Ibadah</td>\n",
       "      <td>03 Tahun 2010</td>\n",
       "      <td>1 February 2010</td>\n",
       "    </tr>\n",
       "    <tr>\n",
       "      <th>4</th>\n",
       "      <td>5</td>\n",
       "      <td>ARAH KIBLAT</td>\n",
       "      <td>Ibadah</td>\n",
       "      <td>05 Tahun 2010</td>\n",
       "      <td>1 July 2010</td>\n",
       "    </tr>\n",
       "  </tbody>\n",
       "</table>\n",
       "</div>"
      ],
      "text/plain": [
       "   No                                        Judul Fatwa  \\\n",
       "0   1  PANDUAN PENYELENGGARAAN IBADAH DI BULAN RAMADA...   \n",
       "1   2  PENGGUNAAN MIKROBA DAN PRODUK MIKROBIAL DALAM ...   \n",
       "2   3                                     AIR DAUR ULANG   \n",
       "3   4                                             KIBLAT   \n",
       "4   5                                        ARAH KIBLAT   \n",
       "\n",
       "              Tema Fatwa                                        Nomor Fatwa  \\\n",
       "0  Sosial Kemasyarakatan  KEPUTUSAN IJTIMA ULAMA KOMISI FATWA SE-INDONES...   \n",
       "1              POM Iptek                                      01 Tahun 2010   \n",
       "2              POM Iptek                                      02 Tahun 2010   \n",
       "3                 Ibadah                                      03 Tahun 2010   \n",
       "4                 Ibadah                                      05 Tahun 2010   \n",
       "\n",
       "     Tgl Ditetapkan  \n",
       "0  16 December 2003  \n",
       "1   19 January 2010  \n",
       "2   27 January 2010  \n",
       "3   1 February 2010  \n",
       "4       1 July 2010  "
      ]
     },
     "execution_count": 2,
     "metadata": {},
     "output_type": "execute_result"
    }
   ],
   "source": [
    "df = pd.read_csv(\"fatwa-mui.csv\")\n",
    "df.head()"
   ]
  },
  {
   "cell_type": "code",
   "execution_count": 3,
   "id": "7d4c4e1f",
   "metadata": {},
   "outputs": [],
   "source": [
    "import re\n",
    "from Sastrawi.Stemmer.StemmerFactory import StemmerFactory\n",
    "\n",
    "factory = StemmerFactory()\n",
    "stemmer = factory.create_stemmer()\n",
    "\n",
    "def preprocess(text):\n",
    "    no_punctuation = re.sub(r'[^\\w\\s]','', text)\n",
    "    #stem_output = stemmer.stem(no_punctuation)\n",
    "    return no_punctuation "
   ]
  },
  {
   "cell_type": "code",
   "execution_count": 4,
   "id": "aa134655",
   "metadata": {},
   "outputs": [
    {
     "name": "stdout",
     "output_type": "stream",
     "text": [
      "                                         Judul Fatwa  \\\n",
      "0  PANDUAN PENYELENGGARAAN IBADAH DI BULAN RAMADA...   \n",
      "1  PENGGUNAAN MIKROBA DAN PRODUK MIKROBIAL DALAM ...   \n",
      "2                                     AIR DAUR ULANG   \n",
      "3                                             KIBLAT   \n",
      "4                                        ARAH KIBLAT   \n",
      "5  PENGGUNAAN VAKSIN MENINGITIS BAGI JEMAAH HAJI ...   \n",
      "6                                         KOPI LUWAK   \n",
      "7                                         AMIL ZAKAT   \n",
      "8  PENSUCIAN ALAT PRODUKSI YANG TERKENA NAJIS MUT...   \n",
      "9  CARA PENSUCIAN EKSTRAK RAGI (YEAST EKSTRACT) D...   \n",
      "\n",
      "                                            Sentence  \n",
      "0  PANDUAN PENYELENGGARAAN IBADAH DI BULAN RAMADA...  \n",
      "1  PENGGUNAAN MIKROBA DAN PRODUK MIKROBIAL DALAM ...  \n",
      "2                                     AIR DAUR ULANG  \n",
      "3                                             KIBLAT  \n",
      "4                                        ARAH KIBLAT  \n",
      "5  PENGGUNAAN VAKSIN MENINGITIS BAGI JEMAAH HAJI ...  \n",
      "6                                         KOPI LUWAK  \n",
      "7                                         AMIL ZAKAT  \n",
      "8  PENSUCIAN ALAT PRODUKSI YANG TERKENA NAJIS MUT...  \n",
      "9  CARA PENSUCIAN EKSTRAK RAGI YEAST EKSTRACT DAR...  \n"
     ]
    }
   ],
   "source": [
    "df['Sentence'] = df['Judul Fatwa'].apply(preprocess)\n",
    "print(df[['Judul Fatwa', 'Sentence']].head(10))"
   ]
  },
  {
   "cell_type": "code",
   "execution_count": 5,
   "id": "044a3c86",
   "metadata": {},
   "outputs": [],
   "source": [
    "tokenizer = AutoTokenizer.from_pretrained(\"indolem/indobert-base-uncased\")\n",
    "model = AutoModel.from_pretrained(\"indolem/indobert-base-uncased\")"
   ]
  },
  {
   "cell_type": "code",
   "execution_count": 6,
   "id": "ee424987",
   "metadata": {},
   "outputs": [],
   "source": [
    "def get_embeddings(text, token_length):\n",
    "    tokens=tokenizer(text,max_length=token_length,padding='max_length',truncation=True)\n",
    "    output=model(torch.tensor(tokens.input_ids).unsqueeze(0),\n",
    "                 attention_mask=torch.tensor(tokens.attention_mask).unsqueeze(0))\n",
    "    return output[1][0].detach().numpy()"
   ]
  },
  {
   "cell_type": "code",
   "execution_count": 7,
   "id": "9c5a44ec",
   "metadata": {},
   "outputs": [],
   "source": [
    "def calc_cosine_similarity(array1, array2):\n",
    "    return np.dot(array1, array2)/(norm(array1)*norm(array2))"
   ]
  },
  {
   "cell_type": "code",
   "execution_count": 8,
   "id": "714c4c31",
   "metadata": {},
   "outputs": [],
   "source": [
    "n = len(df)\n",
    "max_length = 40\n",
    "empty_array = np.zeros((n, n))"
   ]
  },
  {
   "cell_type": "code",
   "execution_count": 9,
   "id": "c4c5256c",
   "metadata": {},
   "outputs": [],
   "source": [
    "vectorize = []\n",
    "for i in range(n):\n",
    "    vectorize.append(get_embeddings(df['Judul Fatwa'][i], max_length));"
   ]
  },
  {
   "cell_type": "code",
   "execution_count": 10,
   "id": "afc4035e",
   "metadata": {},
   "outputs": [
    {
     "name": "stdout",
     "output_type": "stream",
     "text": [
      "[[1.         0.48819226 0.57455295 ... 0.6199649  0.5013442  0.21256855]\n",
      " [0.         1.         0.51580119 ... 0.50838184 0.63107115 0.28830761]\n",
      " [0.         0.         1.         ... 0.63391155 0.5606457  0.21805805]\n",
      " ...\n",
      " [0.         0.         0.         ... 1.         0.63889593 0.32547411]\n",
      " [0.         0.         0.         ... 0.         1.         0.27005899]\n",
      " [0.         0.         0.         ... 0.         0.         1.        ]]\n"
     ]
    }
   ],
   "source": [
    "for i in range(len(empty_array[i])):\n",
    "    for j in range(len(empty_array[i])):\n",
    "        if (i != j):\n",
    "          if (empty_array[j][i] == 0):\n",
    "            similarity = calc_cosine_similarity(vectorize[i],vectorize[j])\n",
    "            empty_array[i][j] = similarity\n",
    "          else:\n",
    "            continue\n",
    "        else:\n",
    "          empty_array[i][j] = 1\n",
    "\n",
    "print(empty_array)"
   ]
  },
  {
   "cell_type": "code",
   "execution_count": 14,
   "id": "8654d60f",
   "metadata": {},
   "outputs": [
    {
     "name": "stdout",
     "output_type": "stream",
     "text": [
      "AMIL ZAKAT  |  PENGELOLAAN ZAKAT  |  0.8004690408706665\n",
      "CARA PENSUCIAN EKSTRAK RAGI (YEAST EKSTRACT) DARI SISA PENGOLAHAN BIR (BREWER YEAST)  |  CARA PENSUCIAN EKSTRAK RAGI (YEAST EXTRACT) DARI SISA PENGOLAHAH BIR (BREWER YEAST)  |  0.9222145080566406\n",
      "BADAL THAWAF IFADHAH (PELAKSANAAN THAWAF IFADHAH OLEH ORANG LAIN)  |  TASWIYAH AL-MANHAJ (PENYAMAAN POLA PIKIR DALAM MASALAH-MASALAH KEAGAMAAN)  |  0.8077623844146729\n",
      "PENGGUNAAN PLASENTA HEWAN HALAL UNTUK BAHAN OBAT  |  PENGGUNAAN ALKOHOL / ETANOL UNTUK BAHAN OBAT  |  0.80544114112854\n",
      "PENGGUNAAN PLASENTA HEWAN HALAL UNTUK BAHAN OBAT  |  PENGGUNAAN ALKOHOL/ETANOL UNTUK BAHAN OBAT  |  0.80544114112854\n",
      "HUKUM PEMBAKARAN HUTAN DAN LAHAN SERTA PENGENDALIANNYA  |  HUKUM ALKOHOL DALAM MINUMAN  |  0.800701916217804\n",
      "PELAKSANAAN SHALAT JUM'AT, DZIKIR DAN KEGIATAN KEAGAMAAN DI TEMPAT SELAIN MASJID  |  PELAKSAAN SHALAT JUM'AT, DZIKIR, DAN KEGIATAN KEAGAMAAN DI TEMPAT SELAIN MASJID  |  0.873968780040741\n",
      "TRANSPLANTASI ORGAN DAN ATAU / JARINGAN TUBUH UNTUK DIRI SENDIRI  |  TRANSPLANTASI ORGAN DAN/ATAU JARINGAN TUBUH DARI PENDONOR HIDUP UNTUK ORANG LAIN  |  0.834358274936676\n",
      "TRANPLANTASI ORGAN DAN ATAU JARINGAN TUBUH DARI PENDONOR HIDUP UNTUK ORANG LAIN  |  TRANSPLANTASI ORGAN DAN/ATAU JARINGAN TUBUH DARI PENDONOR HIDUP UNTUK ORANG LAIN  |  0.8397508263587952\n",
      "PENDAFTARAN HAJI SAAT USIA DINI  |  PENDAFTARAN HAJI USIA DINI  |  0.8465690016746521\n",
      "PRODUK VAKSIN COVID-19 DARI SINOVAC LIFE SCIENCES CO. LTD, CHINA DAN PT. BIO FARMA (PERSERO)  |  PRODUK VAKSIN COVID-19 DARI PT. BIOTIS PHARMACEUTICALS INDONESIA  |  0.8423581123352051\n",
      "PRODUK VAKSIN COVID-19 DARI SINOVAC LIFE SCIENCES CO. LTD, CHINA DAN PT. BIO FARMA (PERSERO)  |  PRODUK VAKSIN COVID-19 DARI BEIJING INSTITUTE OF BIOLOGICAL PRODUCTS CO., LTD.  |  0.8664339184761047\n",
      "PRODUK VAKSIN COVID-19 DARI SINOVAC LIFE SCIENCES CO. LTD, CHINA DAN PT. BIO FARMA (PERSERO)  |  PRODUK VAKSIN COVID-19 DARI ANHUI ZHIFEI LONGCOM BIOPHARMACEUTICAL CO., LTD.  |  0.906518280506134\n",
      "HUKUM PENGGUNAAN VAKSIN COVID-19 PRODUK SINOPHARM CNBG CHINA  |  HUKUM VAKSIN COVID-19 PRODUKSI CANSINO BIOLOGICS INC. CHINA  |  0.8163941502571106\n",
      "HUKUM DAN PANDUAN PELAKSANAAN IBADAH KURBAN SAAT KONDISI WABAH PENYAKIT MULUT DAN KUKU  |  HUKUM DAN PANDUAN PELAKSANAAN IBADAH KURBAN SAAT MEREBAKNYA PENYAKIT LSD DAN PPR PADA HEWAN KURBAN  |  0.8034587502479553\n",
      "KEPELOPORAN PEJABAT DALAM MELAKSANAKAN IBADAH  |  ISTITHA`AH DALAM MELAKSANAKAN IBADAH HAJI  |  0.8057312369346619\n",
      "KEPELOPORAN PEJABAT DALAM MELAKSANAKAN IBADAH  |  PRINSIP AJARAN ISLAM TENTANG HUBUNGAN ANTAR UMAT BERAGAMA DALAM BINGKAI NEGARA KESATUAN REPUBLIK INDONESIA  |  0.8134597539901733\n",
      "INTENSIFIKASI PELAKSANAAN ZAKAT  |  PENANGGULANGAN PENULARAN HIV/AIDS  |  0.810888946056366\n",
      "MENTASHARUFKAN DANA ZAKAT UNTUK KEGIATAN PRODUKTIF DAN KEMASLAHATAN UMUM  |  PANDUAN PEMILU DAN PEMILUKADA YANG LEBIH MASLAHAT BAGI BANGSA INDONESIA  |  0.8234037160873413\n",
      "SUMBANGAN DANA SOSIAL BERHADIAH (SDSB) I  |  SUMBANGAN DANA SOSIAL BERHADIAH (SDSB) II  |  0.9524088501930237\n",
      "PRODUK VAKSIN COVID-19 DARI BEIJING INSTITUTE OF BIOLOGICAL PRODUCTS CO., LTD.  |  PRODUK VAKSIN COVID-19 DARI ANHUI ZHIFEI LONGCOM BIOPHARMACEUTICAL CO., LTD.  |  0.8943504095077515\n",
      "PENYUCIAN (TATHHIR) MENGGUNAKAN CARA DRY CLEANING  |  PENYUCIAN (TATHHIR ) MENGGUNAKAN CARA WET CLEANING  |  0.8593574166297913\n",
      "HUKUM ALKOHOL DALAM MINUMAN  |  HUKUM ALKOHOL  |  0.8090925812721252\n",
      "PRODUK PENYEDAP RASA (MONOSODIUM GLUTAMATE, MSG) DARI PT. AJINOMOTO INDONESIA YANG MENGGUNAKAN BACTO SOYTONE  |  PRODUK PENYEDAP RASA (MONOSODIUM GLUTAMATE, MSG) DARI PT. AJINOMOTO INDONESIA YANG MENGGUNAKAN MAMENO  |  0.9744246602058411\n",
      "IMPLEMENTASI KONSEP HAM DALAM KEHIDUPAN BERBANGSA DAN BERNEGARA  |  HUBUNGAN AGAMA DAN POLITIK DALAM KEHIDUPAN BERBANGSA DAN BERNEGARA  |  0.8339253067970276\n",
      "DISTRIBUSI LAHAN UNTUK PEMERATAAN DAN KEMASLAHATAN (FUNGSIONALISME TANAH)  |  HUKUM PENYALURAN DANA ZAKAT DALAM BENTUK ALQARDH AL-HASAN  |  0.879981517791748\n"
     ]
    }
   ],
   "source": [
    "for i in range(len(empty_array[i])):\n",
    "    for j in range(len(empty_array[i])):\n",
    "        if(empty_array[i][j] > 0.8 and empty_array[i][j] < 1):\n",
    "            print(df['Judul Fatwa'][i], ' | ', df['Judul Fatwa'][j], ' | ', empty_array[i][j]);"
   ]
  },
  {
   "cell_type": "code",
   "execution_count": null,
   "id": "8bcf3bec",
   "metadata": {},
   "outputs": [],
   "source": []
  }
 ],
 "metadata": {
  "kernelspec": {
   "display_name": "Python 3 (ipykernel)",
   "language": "python",
   "name": "python3"
  },
  "language_info": {
   "codemirror_mode": {
    "name": "ipython",
    "version": 3
   },
   "file_extension": ".py",
   "mimetype": "text/x-python",
   "name": "python",
   "nbconvert_exporter": "python",
   "pygments_lexer": "ipython3",
   "version": "3.12.2"
  }
 },
 "nbformat": 4,
 "nbformat_minor": 5
}
