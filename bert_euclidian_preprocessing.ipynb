{
 "cells": [
  {
   "cell_type": "code",
   "execution_count": 31,
   "id": "7d69ccc0-6f1e-4302-bfae-ce5bff53c0bc",
   "metadata": {},
   "outputs": [],
   "source": [
    "import pandas as pd\n",
    "from transformers import AutoTokenizer, AutoModel\n",
    "import torch\n",
    "import numpy as np\n",
    "from numpy.linalg import norm"
   ]
  },
  {
   "cell_type": "code",
   "execution_count": 32,
   "id": "bfb12bbb-73f5-4be9-add4-afa056d32233",
   "metadata": {},
   "outputs": [
    {
     "data": {
      "text/html": [
       "<div>\n",
       "<style scoped>\n",
       "    .dataframe tbody tr th:only-of-type {\n",
       "        vertical-align: middle;\n",
       "    }\n",
       "\n",
       "    .dataframe tbody tr th {\n",
       "        vertical-align: top;\n",
       "    }\n",
       "\n",
       "    .dataframe thead th {\n",
       "        text-align: right;\n",
       "    }\n",
       "</style>\n",
       "<table border=\"1\" class=\"dataframe\">\n",
       "  <thead>\n",
       "    <tr style=\"text-align: right;\">\n",
       "      <th></th>\n",
       "      <th>No</th>\n",
       "      <th>Judul Fatwa</th>\n",
       "      <th>Tema Fatwa</th>\n",
       "      <th>Nomor Fatwa</th>\n",
       "      <th>Tgl Ditetapkan</th>\n",
       "    </tr>\n",
       "  </thead>\n",
       "  <tbody>\n",
       "    <tr>\n",
       "      <th>0</th>\n",
       "      <td>1</td>\n",
       "      <td>PANDUAN PENYELENGGARAAN IBADAH DI BULAN RAMADA...</td>\n",
       "      <td>Sosial Kemasyarakatan</td>\n",
       "      <td>KEPUTUSAN IJTIMA ULAMA KOMISI FATWA SE-INDONES...</td>\n",
       "      <td>16 December 2003</td>\n",
       "    </tr>\n",
       "    <tr>\n",
       "      <th>1</th>\n",
       "      <td>2</td>\n",
       "      <td>PENGGUNAAN MIKROBA DAN PRODUK MIKROBIAL DALAM ...</td>\n",
       "      <td>POM Iptek</td>\n",
       "      <td>01 Tahun 2010</td>\n",
       "      <td>19 January 2010</td>\n",
       "    </tr>\n",
       "    <tr>\n",
       "      <th>2</th>\n",
       "      <td>3</td>\n",
       "      <td>AIR DAUR ULANG</td>\n",
       "      <td>POM Iptek</td>\n",
       "      <td>02 Tahun 2010</td>\n",
       "      <td>27 January 2010</td>\n",
       "    </tr>\n",
       "    <tr>\n",
       "      <th>3</th>\n",
       "      <td>4</td>\n",
       "      <td>KIBLAT</td>\n",
       "      <td>Ibadah</td>\n",
       "      <td>03 Tahun 2010</td>\n",
       "      <td>1 February 2010</td>\n",
       "    </tr>\n",
       "    <tr>\n",
       "      <th>4</th>\n",
       "      <td>5</td>\n",
       "      <td>ARAH KIBLAT</td>\n",
       "      <td>Ibadah</td>\n",
       "      <td>05 Tahun 2010</td>\n",
       "      <td>1 July 2010</td>\n",
       "    </tr>\n",
       "  </tbody>\n",
       "</table>\n",
       "</div>"
      ],
      "text/plain": [
       "   No                                        Judul Fatwa  \\\n",
       "0   1  PANDUAN PENYELENGGARAAN IBADAH DI BULAN RAMADA...   \n",
       "1   2  PENGGUNAAN MIKROBA DAN PRODUK MIKROBIAL DALAM ...   \n",
       "2   3                                     AIR DAUR ULANG   \n",
       "3   4                                             KIBLAT   \n",
       "4   5                                        ARAH KIBLAT   \n",
       "\n",
       "              Tema Fatwa                                        Nomor Fatwa  \\\n",
       "0  Sosial Kemasyarakatan  KEPUTUSAN IJTIMA ULAMA KOMISI FATWA SE-INDONES...   \n",
       "1              POM Iptek                                      01 Tahun 2010   \n",
       "2              POM Iptek                                      02 Tahun 2010   \n",
       "3                 Ibadah                                      03 Tahun 2010   \n",
       "4                 Ibadah                                      05 Tahun 2010   \n",
       "\n",
       "     Tgl Ditetapkan  \n",
       "0  16 December 2003  \n",
       "1   19 January 2010  \n",
       "2   27 January 2010  \n",
       "3   1 February 2010  \n",
       "4       1 July 2010  "
      ]
     },
     "execution_count": 32,
     "metadata": {},
     "output_type": "execute_result"
    }
   ],
   "source": [
    "df = pd.read_csv(\"fatwa-mui.csv\")\n",
    "df.head()"
   ]
  },
  {
   "cell_type": "code",
   "execution_count": 33,
   "id": "7d4c4e1f",
   "metadata": {},
   "outputs": [],
   "source": [
    "import re\n",
    "from Sastrawi.Stemmer.StemmerFactory import StemmerFactory\n",
    "\n",
    "factory = StemmerFactory()\n",
    "stemmer = factory.create_stemmer()\n",
    "\n",
    "def preprocess(text):\n",
    "    no_punctuation = re.sub(r'[^\\w\\s]','', text)\n",
    "    #stem_output = stemmer.stem(no_punctuation)\n",
    "    return no_punctuation "
   ]
  },
  {
   "cell_type": "code",
   "execution_count": 34,
   "id": "aa134655",
   "metadata": {},
   "outputs": [
    {
     "name": "stdout",
     "output_type": "stream",
     "text": [
      "                                         Judul Fatwa  \\\n",
      "0  PANDUAN PENYELENGGARAAN IBADAH DI BULAN RAMADA...   \n",
      "1  PENGGUNAAN MIKROBA DAN PRODUK MIKROBIAL DALAM ...   \n",
      "2                                     AIR DAUR ULANG   \n",
      "3                                             KIBLAT   \n",
      "4                                        ARAH KIBLAT   \n",
      "5  PENGGUNAAN VAKSIN MENINGITIS BAGI JEMAAH HAJI ...   \n",
      "6                                         KOPI LUWAK   \n",
      "7                                         AMIL ZAKAT   \n",
      "8  PENSUCIAN ALAT PRODUKSI YANG TERKENA NAJIS MUT...   \n",
      "9  CARA PENSUCIAN EKSTRAK RAGI (YEAST EKSTRACT) D...   \n",
      "\n",
      "                                            Sentence  \n",
      "0  PANDUAN PENYELENGGARAAN IBADAH DI BULAN RAMADA...  \n",
      "1  PENGGUNAAN MIKROBA DAN PRODUK MIKROBIAL DALAM ...  \n",
      "2                                     AIR DAUR ULANG  \n",
      "3                                             KIBLAT  \n",
      "4                                        ARAH KIBLAT  \n",
      "5  PENGGUNAAN VAKSIN MENINGITIS BAGI JEMAAH HAJI ...  \n",
      "6                                         KOPI LUWAK  \n",
      "7                                         AMIL ZAKAT  \n",
      "8  PENSUCIAN ALAT PRODUKSI YANG TERKENA NAJIS MUT...  \n",
      "9  CARA PENSUCIAN EKSTRAK RAGI YEAST EKSTRACT DAR...  \n"
     ]
    }
   ],
   "source": [
    "df['Sentence'] = df['Judul Fatwa'].apply(preprocess)\n",
    "print(df[['Judul Fatwa', 'Sentence']].head(10))"
   ]
  },
  {
   "cell_type": "code",
   "execution_count": 35,
   "id": "044a3c86",
   "metadata": {},
   "outputs": [],
   "source": [
    "tokenizer = AutoTokenizer.from_pretrained(\"indolem/indobert-base-uncased\")\n",
    "model = AutoModel.from_pretrained(\"indolem/indobert-base-uncased\")"
   ]
  },
  {
   "cell_type": "code",
   "execution_count": 36,
   "id": "ee424987",
   "metadata": {},
   "outputs": [],
   "source": [
    "def get_embeddings(text, token_length):\n",
    "    tokens=tokenizer(text,max_length=token_length,padding='max_length',truncation=True)\n",
    "    output=model(torch.tensor(tokens.input_ids).unsqueeze(0),\n",
    "                 attention_mask=torch.tensor(tokens.attention_mask).unsqueeze(0))\n",
    "    return output[1][0].detach().numpy()"
   ]
  },
  {
   "cell_type": "code",
   "execution_count": 37,
   "id": "9c5a44ec",
   "metadata": {},
   "outputs": [],
   "source": [
    "def calc_euclidian_distance(array1, array2):\n",
    "    sum_sq = np.sum(np.square(array1 - array2))\n",
    "    return np.sqrt(sum_sq)"
   ]
  },
  {
   "cell_type": "code",
   "execution_count": 38,
   "id": "714c4c31",
   "metadata": {},
   "outputs": [],
   "source": [
    "n = len(df)\n",
    "max_length = 40\n",
    "empty_array = np.zeros((n, n))"
   ]
  },
  {
   "cell_type": "code",
   "execution_count": 39,
   "id": "c4c5256c",
   "metadata": {},
   "outputs": [],
   "source": [
    "vectorize = []\n",
    "for i in range(n):\n",
    "    vectorize.append(get_embeddings(df['Judul Fatwa'][i], max_length));"
   ]
  },
  {
   "cell_type": "code",
   "execution_count": 40,
   "id": "afc4035e",
   "metadata": {},
   "outputs": [
    {
     "name": "stdout",
     "output_type": "stream",
     "text": [
      "[[0.         0.07890355 0.08502664 ... 0.08945784 0.08005498 0.06440628]\n",
      " [0.         0.         0.08083959 ... 0.08021694 0.09272786 0.06814759]\n",
      " [0.         0.         0.         ... 0.09088451 0.08473125 0.06453652]\n",
      " ...\n",
      " [0.         0.         0.         ... 0.         0.09257469 0.06909143]\n",
      " [0.         0.         0.         ... 0.         0.         0.06752536]\n",
      " [0.         0.         0.         ... 0.         0.         0.        ]]\n"
     ]
    }
   ],
   "source": [
    "for i in range(len(empty_array[i])):\n",
    "    for j in range(len(empty_array[i])):\n",
    "        if (i != j):\n",
    "          if (empty_array[j][i] == 0):\n",
    "            similarity = 1 / (1 + calc_euclidian_distance(vectorize[i],vectorize[j]))\n",
    "            empty_array[i][j] = similarity\n",
    "          else:\n",
    "            continue\n",
    "        else:\n",
    "          empty_array[i][j] = 0\n",
    "\n",
    "print(empty_array)"
   ]
  },
  {
   "cell_type": "code",
   "execution_count": 44,
   "id": "8654d60f",
   "metadata": {},
   "outputs": [],
   "source": [
    "for i in range(len(empty_array[i])):\n",
    "    for j in range(len(empty_array[i])):\n",
    "        if(empty_array[i][j] > 0.5 and empty_array[i][j] < 1):\n",
    "            empty_array[i][j] = 1\n",
    "            print(df['Judul Fatwa'][i], ' | ', df['Judul Fatwa'][j], ' | ', empty_array[i][j])\n",
    "        else:\n",
    "            empty_array[i][j] = 0"
   ]
  },
  {
   "cell_type": "code",
   "execution_count": 45,
   "id": "d21318ae",
   "metadata": {},
   "outputs": [],
   "source": [
    "labeling = np.genfromtxt(\"labeling_fatwa2.csv\", delimiter=\",\")\n",
    "predict = empty_array.flatten()\n",
    "label = labeling.flatten()"
   ]
  },
  {
   "cell_type": "code",
   "execution_count": 46,
   "id": "0c664855",
   "metadata": {},
   "outputs": [
    {
     "name": "stdout",
     "output_type": "stream",
     "text": [
      "Precision  0.0\n",
      "Accuracy 0.9991412742382272\n",
      "Recal 0.0\n",
      "F1 0.0\n"
     ]
    },
    {
     "name": "stderr",
     "output_type": "stream",
     "text": [
      "/Users/fahmisyaifudin/miniconda3/envs/nlp/lib/python3.12/site-packages/sklearn/metrics/_classification.py:1509: UndefinedMetricWarning: Precision is ill-defined and being set to 0.0 due to no predicted samples. Use `zero_division` parameter to control this behavior.\n",
      "  _warn_prf(average, modifier, f\"{metric.capitalize()} is\", len(result))\n"
     ]
    }
   ],
   "source": [
    "from sklearn.metrics import (\n",
    "    accuracy_score,\n",
    "    precision_score,\n",
    "    recall_score,\n",
    "    f1_score\n",
    ")\n",
    "\n",
    "precision = precision_score(label, predict)\n",
    "accuracy = accuracy_score(label, predict)\n",
    "recall = recall_score(label, predict)\n",
    "f1score = f1_score(label, predict)\n",
    "\n",
    "print('Precision ', precision)\n",
    "print('Accuracy', accuracy)\n",
    "print('Recal', recall)\n",
    "print('F1', f1score)"
   ]
  },
  {
   "cell_type": "code",
   "execution_count": null,
   "id": "8cf6cdc8",
   "metadata": {},
   "outputs": [],
   "source": []
  }
 ],
 "metadata": {
  "kernelspec": {
   "display_name": "Python 3 (ipykernel)",
   "language": "python",
   "name": "python3"
  },
  "language_info": {
   "codemirror_mode": {
    "name": "ipython",
    "version": 3
   },
   "file_extension": ".py",
   "mimetype": "text/x-python",
   "name": "python",
   "nbconvert_exporter": "python",
   "pygments_lexer": "ipython3",
   "version": "3.12.2"
  }
 },
 "nbformat": 4,
 "nbformat_minor": 5
}
