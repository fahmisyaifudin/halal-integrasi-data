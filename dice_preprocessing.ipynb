{
 "cells": [
  {
   "cell_type": "code",
   "execution_count": 1,
   "id": "7d69ccc0-6f1e-4302-bfae-ce5bff53c0bc",
   "metadata": {},
   "outputs": [],
   "source": [
    "import pandas as pd\n",
    "import numpy as np\n",
    "from sklearn.metrics import jaccard_score\n",
    "from sklearn.feature_extraction.text import CountVectorizer"
   ]
  },
  {
   "cell_type": "code",
   "execution_count": 2,
   "id": "bfb12bbb-73f5-4be9-add4-afa056d32233",
   "metadata": {},
   "outputs": [
    {
     "data": {
      "text/html": [
       "<div>\n",
       "<style scoped>\n",
       "    .dataframe tbody tr th:only-of-type {\n",
       "        vertical-align: middle;\n",
       "    }\n",
       "\n",
       "    .dataframe tbody tr th {\n",
       "        vertical-align: top;\n",
       "    }\n",
       "\n",
       "    .dataframe thead th {\n",
       "        text-align: right;\n",
       "    }\n",
       "</style>\n",
       "<table border=\"1\" class=\"dataframe\">\n",
       "  <thead>\n",
       "    <tr style=\"text-align: right;\">\n",
       "      <th></th>\n",
       "      <th>No</th>\n",
       "      <th>Judul Fatwa</th>\n",
       "      <th>Tema Fatwa</th>\n",
       "      <th>Nomor Fatwa</th>\n",
       "      <th>Tgl Ditetapkan</th>\n",
       "    </tr>\n",
       "  </thead>\n",
       "  <tbody>\n",
       "    <tr>\n",
       "      <th>0</th>\n",
       "      <td>1</td>\n",
       "      <td>PANDUAN PENYELENGGARAAN IBADAH DI BULAN RAMADA...</td>\n",
       "      <td>Sosial Kemasyarakatan</td>\n",
       "      <td>KEPUTUSAN IJTIMA ULAMA KOMISI FATWA SE-INDONES...</td>\n",
       "      <td>16 December 2003</td>\n",
       "    </tr>\n",
       "    <tr>\n",
       "      <th>1</th>\n",
       "      <td>2</td>\n",
       "      <td>PENGGUNAAN MIKROBA DAN PRODUK MIKROBIAL DALAM ...</td>\n",
       "      <td>POM Iptek</td>\n",
       "      <td>01 Tahun 2010</td>\n",
       "      <td>19 January 2010</td>\n",
       "    </tr>\n",
       "    <tr>\n",
       "      <th>2</th>\n",
       "      <td>3</td>\n",
       "      <td>AIR DAUR ULANG</td>\n",
       "      <td>POM Iptek</td>\n",
       "      <td>02 Tahun 2010</td>\n",
       "      <td>27 January 2010</td>\n",
       "    </tr>\n",
       "    <tr>\n",
       "      <th>3</th>\n",
       "      <td>4</td>\n",
       "      <td>KIBLAT</td>\n",
       "      <td>Ibadah</td>\n",
       "      <td>03 Tahun 2010</td>\n",
       "      <td>1 February 2010</td>\n",
       "    </tr>\n",
       "    <tr>\n",
       "      <th>4</th>\n",
       "      <td>5</td>\n",
       "      <td>ARAH KIBLAT</td>\n",
       "      <td>Ibadah</td>\n",
       "      <td>05 Tahun 2010</td>\n",
       "      <td>1 July 2010</td>\n",
       "    </tr>\n",
       "  </tbody>\n",
       "</table>\n",
       "</div>"
      ],
      "text/plain": [
       "   No                                        Judul Fatwa  \\\n",
       "0   1  PANDUAN PENYELENGGARAAN IBADAH DI BULAN RAMADA...   \n",
       "1   2  PENGGUNAAN MIKROBA DAN PRODUK MIKROBIAL DALAM ...   \n",
       "2   3                                     AIR DAUR ULANG   \n",
       "3   4                                             KIBLAT   \n",
       "4   5                                        ARAH KIBLAT   \n",
       "\n",
       "              Tema Fatwa                                        Nomor Fatwa  \\\n",
       "0  Sosial Kemasyarakatan  KEPUTUSAN IJTIMA ULAMA KOMISI FATWA SE-INDONES...   \n",
       "1              POM Iptek                                      01 Tahun 2010   \n",
       "2              POM Iptek                                      02 Tahun 2010   \n",
       "3                 Ibadah                                      03 Tahun 2010   \n",
       "4                 Ibadah                                      05 Tahun 2010   \n",
       "\n",
       "     Tgl Ditetapkan  \n",
       "0  16 December 2003  \n",
       "1   19 January 2010  \n",
       "2   27 January 2010  \n",
       "3   1 February 2010  \n",
       "4       1 July 2010  "
      ]
     },
     "execution_count": 2,
     "metadata": {},
     "output_type": "execute_result"
    }
   ],
   "source": [
    "df = pd.read_csv(\"fatwa-mui.csv\")\n",
    "df.head()"
   ]
  },
  {
   "cell_type": "code",
   "execution_count": 3,
   "id": "7d4c4e1f",
   "metadata": {},
   "outputs": [],
   "source": [
    "import re\n",
    "from Sastrawi.Stemmer.StemmerFactory import StemmerFactory\n",
    "import spacy\n",
    "from nltk.corpus import stopwords\n",
    "\n",
    "nlp = spacy.blank('id')\n",
    "factory = StemmerFactory()\n",
    "stemmer = factory.create_stemmer()\n",
    "indonesia_s = stopwords.words('indonesian')\n",
    "\n",
    "def preprocess(text):\n",
    "    no_punctuation = re.sub(r'[^\\w\\s]','', text)\n",
    "    no_number = re.sub(r'\\d+', \"\", no_punctuation)\n",
    "    no_single_letter = ' '.join( [w for w in no_number.split() if len(w)>1] )\n",
    "    stem_output = stemmer.stem(no_single_letter)\n",
    "    doc = nlp(stem_output)\n",
    "    no_stop_words = [token.text for token in doc if not token.is_stop]\n",
    "    no_stop_clean = \" \".join(no_stop_words) \n",
    "    return \" \".join(dict.fromkeys(no_stop_clean.split()))"
   ]
  },
  {
   "cell_type": "code",
   "execution_count": 4,
   "id": "77d72443",
   "metadata": {},
   "outputs": [],
   "source": [
    "from sklearn.feature_extraction.text import CountVectorizer\n",
    "\n",
    "v = CountVectorizer()\n",
    "\n",
    "def tokenize(text1, text2):\n",
    "    v.fit([text1, text2])\n",
    "    array1 = v.transform([text1]).toarray()\n",
    "    array2 = v.transform([text2]).toarray()\n",
    "    return array1, array2"
   ]
  },
  {
   "cell_type": "code",
   "execution_count": 5,
   "id": "612fe8f7",
   "metadata": {},
   "outputs": [],
   "source": [
    "def calc_dice_coeeficient(array1, array2):\n",
    "    y_pred = np.array(array1).reshape(-1, 1)\n",
    "    y_true = np.array(array2).reshape(-1, 1)\n",
    "    jaccard_index = jaccard_score(y_true, y_pred)\n",
    "    dice = 2*jaccard_index / (1 + jaccard_index)\n",
    "    return dice"
   ]
  },
  {
   "cell_type": "code",
   "execution_count": 6,
   "id": "714c4c31",
   "metadata": {},
   "outputs": [
    {
     "name": "stdout",
     "output_type": "stream",
     "text": [
      "380\n"
     ]
    }
   ],
   "source": [
    "n = len(df)\n",
    "empty_array = np.zeros((n, n))\n",
    "print(len(empty_array))"
   ]
  },
  {
   "cell_type": "code",
   "execution_count": 7,
   "id": "afc4035e",
   "metadata": {},
   "outputs": [
    {
     "name": "stdout",
     "output_type": "stream",
     "text": [
      "[[1.         0.         0.         ... 0.         0.         0.        ]\n",
      " [0.         1.         0.         ... 0.         0.         0.        ]\n",
      " [0.         0.         1.         ... 0.         0.         0.        ]\n",
      " ...\n",
      " [0.         0.         0.         ... 1.         0.         0.22222222]\n",
      " [0.         0.         0.         ... 0.         1.         0.        ]\n",
      " [0.         0.         0.         ... 0.         0.         1.        ]]\n"
     ]
    }
   ],
   "source": [
    "for i in range(n):\n",
    "    for j in range(len(empty_array[i])):\n",
    "        if (i != j):\n",
    "          if (empty_array[j][i] == 0):\n",
    "            text1 = preprocess(df['Judul Fatwa'][i])\n",
    "            text2 = preprocess(df['Judul Fatwa'][j])\n",
    "            vector1, vector2 = tokenize(text1, text2)\n",
    "            similarity = calc_dice_coeeficient(vector1,vector2)\n",
    "            empty_array[i][j] = similarity\n",
    "          else:\n",
    "            continue\n",
    "        else:\n",
    "          empty_array[i][j] = 1\n",
    "          \n",
    "print(empty_array)"
   ]
  },
  {
   "cell_type": "code",
   "execution_count": 8,
   "id": "8654d60f",
   "metadata": {},
   "outputs": [
    {
     "name": "stdout",
     "output_type": "stream",
     "text": [
      "CARA PENSUCIAN EKSTRAK RAGI (YEAST EKSTRACT) DARI SISA PENGOLAHAN BIR (BREWER YEAST)  |  CARA PENSUCIAN EKSTRAK RAGI (YEAST EXTRACT) DARI SISA PENGOLAHAH BIR (BREWER YEAST)  |  1.0\n",
      "PENGGUNAAN PLASENTA HEWAN HALAL UNTUK BAHAN OBAT  |  PENGGUNAAN PLASENTA HEWAN HALAL UNTUK BAHAN KOSMETIKA OBAT LUAR  |  1.0\n",
      "PELAKSANAAN SHALAT JUM'AT, DZIKIR DAN KEGIATAN KEAGAMAAN DI TEMPAT SELAIN MASJID  |  PELAKSAAN SHALAT JUM'AT, DZIKIR, DAN KEGIATAN KEAGAMAAN DI TEMPAT SELAIN MASJID  |  1.0\n",
      "PRODUK MAKANAN DAN MINUMAN YANG MENGANDUNG ALKOHOL / ETANOL  |  PRODUK KOSMETIKA YANG MENGANDUNG ALKOHOL / ETANOL  |  1.0\n",
      "HUKUM MENGONSUMSI DAGING KANGURU  |  HUKUM MENGONSUMSI DAGING BULUS  |  1.0\n",
      "TRANPLANTASI ORGAN DAN ATAU JARINGAN TUBUH DARI PENDONOR HIDUP UNTUK ORANG LAIN  |  TRANSPLANTASI ORGAN DAN/ATAU JARINGAN TUBUH DARI PENDONOR HIDUP UNTUK ORANG LAIN  |  1.0\n",
      "HUKUM MENGGUNAKAN VAKSIN COVID-19 PRODUK ASTRAZANECA  |  HUKUM PENGGUNAAN VAKSIN COVID-19 PRODUK PT.PFIZER  |  1.0\n",
      "HUKUM STANDAR SERTIFIKASI HALAL PENYEMBELIHAN HEWAN DENGAN MENGGUNAKAN MESIN  |  STANDAR SERTIFIKASI PENYEMBELIHAN HALAL  |  1.0\n",
      "ZAKAT PENGHASILAN  |  OBYEK ZAKAT PENGHASILAN  |  1.0\n",
      "SUMBANGAN DANA SOSIAL BERHADIAH (SDSB) I  |  SUMBANGAN DANA SOSIAL BERHADIAH (SDSB) II  |  1.0\n",
      "PORNOGRAFI DAN PORNOAKSI  |  FATWA TENTANG PORNOGRAFI DAN PORNOAKSI  |  1.0\n",
      "PENYERANGAN AMERIKA SERIKAT DAN SEKUTUNYA TERHADAP IRAK  |  FATWA PENYERANGAN AMERIKA SERIKAT DAN SEKUTUNYA TERHADAP IRAK  |  1.0\n",
      "PENYUCIAN (TATHHIR) MENGGUNAKAN CARA DRY CLEANING  |  PENYUCIAN (TATHHIR ) MENGGUNAKAN CARA WET CLEANING  |  1.0\n",
      "OPERASI PERUBAHAN/ PENYEMPURNAAN KELAMIN  |  PERUBAHAN DAN PENYEMPURNAAN JENIS KELAMIN  |  1.0\n",
      "HUKUM ALKOHOL DALAM MINUMAN  |  HUKUM ALKOHOL  |  1.0\n",
      "PRODUK PENYEDAP RASA (MONOSODIUM GLUTAMATE, MSG) DARI PT. AJINOMOTO INDONESIA YANG MENGGUNAKAN BACTO SOYTONE  |  PRODUK PENYEDAP RASA (MONOSODIUM GLUTAMATE, MSG) DARI PT. AJINOMOTO INDONESIA YANG MENGGUNAKAN MAMENO  |  1.0\n",
      "RUU Perbankan Syariah  |  PERBANKAN SYARI’AH  |  1.0\n",
      "PANDANGAN TENTANG RUU LARANGAN MINUMAN BERALKOHOL  |  RUU TENTANG LARANGAN MINUMAN BERALKOHOL  |  1.0\n",
      "PANDANGAN TENTANG RUU HUKUM MATERIIL PERADILAN AGAMA (HMPA) BIDANG PERKAWINAN  |  RUU TENTANG HUKUM MATERIL PERADILAN AGAMA BIDANG PERKAWINAN  |  1.0\n"
     ]
    }
   ],
   "source": [
    "for i in range(len(empty_array[i])):\n",
    "    for j in range(len(empty_array[i])):\n",
    "        if(empty_array[i][j] > 0.7 and empty_array[i][j] < 1):\n",
    "            empty_array[i][j] = 1\n",
    "            print(df['Judul Fatwa'][i], ' | ', df['Judul Fatwa'][j], ' | ', empty_array[i][j]);\n",
    "        else:\n",
    "            empty_array[i][j] = 0"
   ]
  },
  {
   "cell_type": "code",
   "execution_count": 9,
   "id": "98fdb0c7",
   "metadata": {},
   "outputs": [],
   "source": [
    "labeling = np.genfromtxt(\"labeling_fatwa2.csv\", delimiter=\",\")\n",
    "predict = empty_array.flatten()\n",
    "label = labeling.flatten()"
   ]
  },
  {
   "cell_type": "code",
   "execution_count": 10,
   "id": "0a5be4e5",
   "metadata": {},
   "outputs": [
    {
     "name": "stdout",
     "output_type": "stream",
     "text": [
      "Precision  0.9473684210526315\n",
      "Accuracy 0.9992590027700831\n",
      "Recal 0.14516129032258066\n",
      "F1 0.2517482517482518\n"
     ]
    }
   ],
   "source": [
    "from sklearn.metrics import (\n",
    "    accuracy_score,\n",
    "    precision_score,\n",
    "    recall_score,\n",
    "    f1_score\n",
    ")\n",
    "\n",
    "precision = precision_score(label, predict)\n",
    "accuracy = accuracy_score(label, predict)\n",
    "recall = recall_score(label, predict)\n",
    "f1score = f1_score(label, predict)\n",
    "\n",
    "print('Precision ', precision)\n",
    "print('Accuracy', accuracy)\n",
    "print('Recal', recall)\n",
    "print('F1', f1score)"
   ]
  }
 ],
 "metadata": {
  "kernelspec": {
   "display_name": "Python 3 (ipykernel)",
   "language": "python",
   "name": "python3"
  },
  "language_info": {
   "codemirror_mode": {
    "name": "ipython",
    "version": 3
   },
   "file_extension": ".py",
   "mimetype": "text/x-python",
   "name": "python",
   "nbconvert_exporter": "python",
   "pygments_lexer": "ipython3",
   "version": "3.12.2"
  }
 },
 "nbformat": 4,
 "nbformat_minor": 5
}
