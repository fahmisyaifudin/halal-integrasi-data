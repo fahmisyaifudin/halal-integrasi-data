{
 "cells": [
  {
   "cell_type": "code",
   "execution_count": 1,
   "id": "7d69ccc0-6f1e-4302-bfae-ce5bff53c0bc",
   "metadata": {},
   "outputs": [],
   "source": [
    "import pandas as pd\n",
    "import numpy as np\n",
    "from sklearn.metrics import jaccard_score\n",
    "from sklearn.feature_extraction.text import CountVectorizer"
   ]
  },
  {
   "cell_type": "code",
   "execution_count": 2,
   "id": "bfb12bbb-73f5-4be9-add4-afa056d32233",
   "metadata": {},
   "outputs": [
    {
     "data": {
      "text/html": [
       "<div>\n",
       "<style scoped>\n",
       "    .dataframe tbody tr th:only-of-type {\n",
       "        vertical-align: middle;\n",
       "    }\n",
       "\n",
       "    .dataframe tbody tr th {\n",
       "        vertical-align: top;\n",
       "    }\n",
       "\n",
       "    .dataframe thead th {\n",
       "        text-align: right;\n",
       "    }\n",
       "</style>\n",
       "<table border=\"1\" class=\"dataframe\">\n",
       "  <thead>\n",
       "    <tr style=\"text-align: right;\">\n",
       "      <th></th>\n",
       "      <th>No</th>\n",
       "      <th>Judul Fatwa</th>\n",
       "      <th>Tema Fatwa</th>\n",
       "      <th>Nomor Fatwa</th>\n",
       "      <th>Tgl Ditetapkan</th>\n",
       "    </tr>\n",
       "  </thead>\n",
       "  <tbody>\n",
       "    <tr>\n",
       "      <th>0</th>\n",
       "      <td>1</td>\n",
       "      <td>PANDUAN PENYELENGGARAAN IBADAH DI BULAN RAMADA...</td>\n",
       "      <td>Sosial Kemasyarakatan</td>\n",
       "      <td>KEPUTUSAN IJTIMA ULAMA KOMISI FATWA SE-INDONES...</td>\n",
       "      <td>16 December 2003</td>\n",
       "    </tr>\n",
       "    <tr>\n",
       "      <th>1</th>\n",
       "      <td>2</td>\n",
       "      <td>PENGGUNAAN MIKROBA DAN PRODUK MIKROBIAL DALAM ...</td>\n",
       "      <td>POM Iptek</td>\n",
       "      <td>01 Tahun 2010</td>\n",
       "      <td>19 January 2010</td>\n",
       "    </tr>\n",
       "    <tr>\n",
       "      <th>2</th>\n",
       "      <td>3</td>\n",
       "      <td>AIR DAUR ULANG</td>\n",
       "      <td>POM Iptek</td>\n",
       "      <td>02 Tahun 2010</td>\n",
       "      <td>27 January 2010</td>\n",
       "    </tr>\n",
       "    <tr>\n",
       "      <th>3</th>\n",
       "      <td>4</td>\n",
       "      <td>KIBLAT</td>\n",
       "      <td>Ibadah</td>\n",
       "      <td>03 Tahun 2010</td>\n",
       "      <td>1 February 2010</td>\n",
       "    </tr>\n",
       "    <tr>\n",
       "      <th>4</th>\n",
       "      <td>5</td>\n",
       "      <td>ARAH KIBLAT</td>\n",
       "      <td>Ibadah</td>\n",
       "      <td>05 Tahun 2010</td>\n",
       "      <td>1 July 2010</td>\n",
       "    </tr>\n",
       "  </tbody>\n",
       "</table>\n",
       "</div>"
      ],
      "text/plain": [
       "   No                                        Judul Fatwa  \\\n",
       "0   1  PANDUAN PENYELENGGARAAN IBADAH DI BULAN RAMADA...   \n",
       "1   2  PENGGUNAAN MIKROBA DAN PRODUK MIKROBIAL DALAM ...   \n",
       "2   3                                     AIR DAUR ULANG   \n",
       "3   4                                             KIBLAT   \n",
       "4   5                                        ARAH KIBLAT   \n",
       "\n",
       "              Tema Fatwa                                        Nomor Fatwa  \\\n",
       "0  Sosial Kemasyarakatan  KEPUTUSAN IJTIMA ULAMA KOMISI FATWA SE-INDONES...   \n",
       "1              POM Iptek                                      01 Tahun 2010   \n",
       "2              POM Iptek                                      02 Tahun 2010   \n",
       "3                 Ibadah                                      03 Tahun 2010   \n",
       "4                 Ibadah                                      05 Tahun 2010   \n",
       "\n",
       "     Tgl Ditetapkan  \n",
       "0  16 December 2003  \n",
       "1   19 January 2010  \n",
       "2   27 January 2010  \n",
       "3   1 February 2010  \n",
       "4       1 July 2010  "
      ]
     },
     "execution_count": 2,
     "metadata": {},
     "output_type": "execute_result"
    }
   ],
   "source": [
    "df = pd.read_csv(\"fatwa-mui.csv\")\n",
    "df.head()"
   ]
  },
  {
   "cell_type": "code",
   "execution_count": 3,
   "id": "7d4c4e1f",
   "metadata": {},
   "outputs": [],
   "source": [
    "import re\n",
    "from Sastrawi.Stemmer.StemmerFactory import StemmerFactory\n",
    "import spacy\n",
    "from nltk.corpus import stopwords\n",
    "\n",
    "nlp = spacy.blank('id')\n",
    "factory = StemmerFactory()\n",
    "stemmer = factory.create_stemmer()\n",
    "indonesia_s = stopwords.words('indonesian')\n",
    "\n",
    "def preprocess(text):\n",
    "    no_punctuation = re.sub(r'[^\\w\\s]','', text)\n",
    "    no_number = re.sub(r'\\d+', \"\", no_punctuation)\n",
    "    no_single_letter = ' '.join( [w for w in no_number.split() if len(w)>1] )\n",
    "    stem_output = stemmer.stem(no_single_letter)\n",
    "    doc = nlp(stem_output)\n",
    "    no_stop_words = [token.text for token in doc if not token.is_stop]\n",
    "    no_stop_clean = \" \".join(no_stop_words) \n",
    "    return \" \".join(dict.fromkeys(no_stop_clean.split()))"
   ]
  },
  {
   "cell_type": "code",
   "execution_count": 4,
   "id": "77d72443",
   "metadata": {},
   "outputs": [],
   "source": [
    "from sklearn.feature_extraction.text import CountVectorizer\n",
    "\n",
    "v = CountVectorizer()\n",
    "\n",
    "def tokenize(text1, text2):\n",
    "    v.fit([text1, text2])\n",
    "    array1 = v.transform([text1]).toarray()\n",
    "    array2 = v.transform([text2]).toarray()\n",
    "    return array1, array2"
   ]
  },
  {
   "cell_type": "code",
   "execution_count": 5,
   "id": "612fe8f7",
   "metadata": {},
   "outputs": [],
   "source": [
    "def calc_jaccard_similarity(array1, array2):\n",
    "    y_pred = np.array(array1).reshape(-1, 1)\n",
    "    y_true = np.array(array2).reshape(-1, 1)\n",
    "    jaccard_index = jaccard_score(y_true, y_pred)\n",
    "    return jaccard_index"
   ]
  },
  {
   "cell_type": "code",
   "execution_count": 6,
   "id": "714c4c31",
   "metadata": {},
   "outputs": [
    {
     "name": "stdout",
     "output_type": "stream",
     "text": [
      "380\n"
     ]
    }
   ],
   "source": [
    "n = len(df)\n",
    "empty_array = np.zeros((n, n))\n",
    "print(len(empty_array))"
   ]
  },
  {
   "cell_type": "code",
   "execution_count": 8,
   "id": "afc4035e",
   "metadata": {},
   "outputs": [
    {
     "ename": "KeyboardInterrupt",
     "evalue": "",
     "output_type": "error",
     "traceback": [
      "\u001b[0;31m---------------------------------------------------------------------------\u001b[0m",
      "\u001b[0;31mKeyboardInterrupt\u001b[0m                         Traceback (most recent call last)",
      "Cell \u001b[0;32mIn[8], line 8\u001b[0m\n\u001b[1;32m      6\u001b[0m   text2 \u001b[38;5;241m=\u001b[39m preprocess(df[\u001b[38;5;124m'\u001b[39m\u001b[38;5;124mJudul Fatwa\u001b[39m\u001b[38;5;124m'\u001b[39m][j])\n\u001b[1;32m      7\u001b[0m   vector1, vector2 \u001b[38;5;241m=\u001b[39m tokenize(text1, text2)\n\u001b[0;32m----> 8\u001b[0m   similarity \u001b[38;5;241m=\u001b[39m calc_jaccard_similarity(vector1,vector2)\n\u001b[1;32m      9\u001b[0m   empty_array[i][j] \u001b[38;5;241m=\u001b[39m similarity\n\u001b[1;32m     10\u001b[0m \u001b[38;5;28;01melse\u001b[39;00m:\n",
      "Cell \u001b[0;32mIn[5], line 4\u001b[0m, in \u001b[0;36mcalc_jaccard_similarity\u001b[0;34m(array1, array2)\u001b[0m\n\u001b[1;32m      2\u001b[0m y_pred \u001b[38;5;241m=\u001b[39m np\u001b[38;5;241m.\u001b[39marray(array1)\u001b[38;5;241m.\u001b[39mreshape(\u001b[38;5;241m-\u001b[39m\u001b[38;5;241m1\u001b[39m, \u001b[38;5;241m1\u001b[39m)\n\u001b[1;32m      3\u001b[0m y_true \u001b[38;5;241m=\u001b[39m np\u001b[38;5;241m.\u001b[39marray(array2)\u001b[38;5;241m.\u001b[39mreshape(\u001b[38;5;241m-\u001b[39m\u001b[38;5;241m1\u001b[39m, \u001b[38;5;241m1\u001b[39m)\n\u001b[0;32m----> 4\u001b[0m jaccard_index \u001b[38;5;241m=\u001b[39m jaccard_score(y_true, y_pred)\n\u001b[1;32m      5\u001b[0m \u001b[38;5;28;01mreturn\u001b[39;00m jaccard_index\n",
      "File \u001b[0;32m~/miniconda3/envs/nlp/lib/python3.12/site-packages/sklearn/utils/_param_validation.py:213\u001b[0m, in \u001b[0;36mvalidate_params.<locals>.decorator.<locals>.wrapper\u001b[0;34m(*args, **kwargs)\u001b[0m\n\u001b[1;32m    207\u001b[0m \u001b[38;5;28;01mtry\u001b[39;00m:\n\u001b[1;32m    208\u001b[0m     \u001b[38;5;28;01mwith\u001b[39;00m config_context(\n\u001b[1;32m    209\u001b[0m         skip_parameter_validation\u001b[38;5;241m=\u001b[39m(\n\u001b[1;32m    210\u001b[0m             prefer_skip_nested_validation \u001b[38;5;129;01mor\u001b[39;00m global_skip_validation\n\u001b[1;32m    211\u001b[0m         )\n\u001b[1;32m    212\u001b[0m     ):\n\u001b[0;32m--> 213\u001b[0m         \u001b[38;5;28;01mreturn\u001b[39;00m func(\u001b[38;5;241m*\u001b[39margs, \u001b[38;5;241m*\u001b[39m\u001b[38;5;241m*\u001b[39mkwargs)\n\u001b[1;32m    214\u001b[0m \u001b[38;5;28;01mexcept\u001b[39;00m InvalidParameterError \u001b[38;5;28;01mas\u001b[39;00m e:\n\u001b[1;32m    215\u001b[0m     \u001b[38;5;66;03m# When the function is just a wrapper around an estimator, we allow\u001b[39;00m\n\u001b[1;32m    216\u001b[0m     \u001b[38;5;66;03m# the function to delegate validation to the estimator, but we replace\u001b[39;00m\n\u001b[1;32m    217\u001b[0m     \u001b[38;5;66;03m# the name of the estimator by the name of the function in the error\u001b[39;00m\n\u001b[1;32m    218\u001b[0m     \u001b[38;5;66;03m# message to avoid confusion.\u001b[39;00m\n\u001b[1;32m    219\u001b[0m     msg \u001b[38;5;241m=\u001b[39m re\u001b[38;5;241m.\u001b[39msub(\n\u001b[1;32m    220\u001b[0m         \u001b[38;5;124mr\u001b[39m\u001b[38;5;124m\"\u001b[39m\u001b[38;5;124mparameter of \u001b[39m\u001b[38;5;124m\\\u001b[39m\u001b[38;5;124mw+ must be\u001b[39m\u001b[38;5;124m\"\u001b[39m,\n\u001b[1;32m    221\u001b[0m         \u001b[38;5;124mf\u001b[39m\u001b[38;5;124m\"\u001b[39m\u001b[38;5;124mparameter of \u001b[39m\u001b[38;5;132;01m{\u001b[39;00mfunc\u001b[38;5;241m.\u001b[39m\u001b[38;5;18m__qualname__\u001b[39m\u001b[38;5;132;01m}\u001b[39;00m\u001b[38;5;124m must be\u001b[39m\u001b[38;5;124m\"\u001b[39m,\n\u001b[1;32m    222\u001b[0m         \u001b[38;5;28mstr\u001b[39m(e),\n\u001b[1;32m    223\u001b[0m     )\n",
      "File \u001b[0;32m~/miniconda3/envs/nlp/lib/python3.12/site-packages/sklearn/metrics/_classification.py:871\u001b[0m, in \u001b[0;36mjaccard_score\u001b[0;34m(y_true, y_pred, labels, pos_label, average, sample_weight, zero_division)\u001b[0m\n\u001b[1;32m    712\u001b[0m \u001b[38;5;129m@validate_params\u001b[39m(\n\u001b[1;32m    713\u001b[0m     {\n\u001b[1;32m    714\u001b[0m         \u001b[38;5;124m\"\u001b[39m\u001b[38;5;124my_true\u001b[39m\u001b[38;5;124m\"\u001b[39m: [\u001b[38;5;124m\"\u001b[39m\u001b[38;5;124marray-like\u001b[39m\u001b[38;5;124m\"\u001b[39m, \u001b[38;5;124m\"\u001b[39m\u001b[38;5;124msparse matrix\u001b[39m\u001b[38;5;124m\"\u001b[39m],\n\u001b[0;32m   (...)\u001b[0m\n\u001b[1;32m    738\u001b[0m     zero_division\u001b[38;5;241m=\u001b[39m\u001b[38;5;124m\"\u001b[39m\u001b[38;5;124mwarn\u001b[39m\u001b[38;5;124m\"\u001b[39m,\n\u001b[1;32m    739\u001b[0m ):\n\u001b[1;32m    740\u001b[0m \u001b[38;5;250m    \u001b[39m\u001b[38;5;124;03m\"\"\"Jaccard similarity coefficient score.\u001b[39;00m\n\u001b[1;32m    741\u001b[0m \n\u001b[1;32m    742\u001b[0m \u001b[38;5;124;03m    The Jaccard index [1], or Jaccard similarity coefficient, defined as\u001b[39;00m\n\u001b[0;32m   (...)\u001b[0m\n\u001b[1;32m    869\u001b[0m \u001b[38;5;124;03m    array([1. , 0. , 0.33...])\u001b[39;00m\n\u001b[1;32m    870\u001b[0m \u001b[38;5;124;03m    \"\"\"\u001b[39;00m\n\u001b[0;32m--> 871\u001b[0m     labels \u001b[38;5;241m=\u001b[39m _check_set_wise_labels(y_true, y_pred, average, labels, pos_label)\n\u001b[1;32m    872\u001b[0m     samplewise \u001b[38;5;241m=\u001b[39m average \u001b[38;5;241m==\u001b[39m \u001b[38;5;124m\"\u001b[39m\u001b[38;5;124msamples\u001b[39m\u001b[38;5;124m\"\u001b[39m\n\u001b[1;32m    873\u001b[0m     MCM \u001b[38;5;241m=\u001b[39m multilabel_confusion_matrix(\n\u001b[1;32m    874\u001b[0m         y_true,\n\u001b[1;32m    875\u001b[0m         y_pred,\n\u001b[0;32m   (...)\u001b[0m\n\u001b[1;32m    878\u001b[0m         samplewise\u001b[38;5;241m=\u001b[39msamplewise,\n\u001b[1;32m    879\u001b[0m     )\n",
      "File \u001b[0;32m~/miniconda3/envs/nlp/lib/python3.12/site-packages/sklearn/metrics/_classification.py:1539\u001b[0m, in \u001b[0;36m_check_set_wise_labels\u001b[0;34m(y_true, y_pred, average, labels, pos_label)\u001b[0m\n\u001b[1;32m   1536\u001b[0m \u001b[38;5;28;01mif\u001b[39;00m average \u001b[38;5;129;01mnot\u001b[39;00m \u001b[38;5;129;01min\u001b[39;00m average_options \u001b[38;5;129;01mand\u001b[39;00m average \u001b[38;5;241m!=\u001b[39m \u001b[38;5;124m\"\u001b[39m\u001b[38;5;124mbinary\u001b[39m\u001b[38;5;124m\"\u001b[39m:\n\u001b[1;32m   1537\u001b[0m     \u001b[38;5;28;01mraise\u001b[39;00m \u001b[38;5;167;01mValueError\u001b[39;00m(\u001b[38;5;124m\"\u001b[39m\u001b[38;5;124maverage has to be one of \u001b[39m\u001b[38;5;124m\"\u001b[39m \u001b[38;5;241m+\u001b[39m \u001b[38;5;28mstr\u001b[39m(average_options))\n\u001b[0;32m-> 1539\u001b[0m y_type, y_true, y_pred \u001b[38;5;241m=\u001b[39m _check_targets(y_true, y_pred)\n\u001b[1;32m   1540\u001b[0m \u001b[38;5;66;03m# Convert to Python primitive type to avoid NumPy type / Python str\u001b[39;00m\n\u001b[1;32m   1541\u001b[0m \u001b[38;5;66;03m# comparison. See https://github.com/numpy/numpy/issues/6784\u001b[39;00m\n\u001b[1;32m   1542\u001b[0m present_labels \u001b[38;5;241m=\u001b[39m unique_labels(y_true, y_pred)\u001b[38;5;241m.\u001b[39mtolist()\n",
      "File \u001b[0;32m~/miniconda3/envs/nlp/lib/python3.12/site-packages/sklearn/metrics/_classification.py:85\u001b[0m, in \u001b[0;36m_check_targets\u001b[0;34m(y_true, y_pred)\u001b[0m\n\u001b[1;32m     58\u001b[0m \u001b[38;5;28;01mdef\u001b[39;00m \u001b[38;5;21m_check_targets\u001b[39m(y_true, y_pred):\n\u001b[1;32m     59\u001b[0m \u001b[38;5;250m    \u001b[39m\u001b[38;5;124;03m\"\"\"Check that y_true and y_pred belong to the same classification task.\u001b[39;00m\n\u001b[1;32m     60\u001b[0m \n\u001b[1;32m     61\u001b[0m \u001b[38;5;124;03m    This converts multiclass or binary types to a common shape, and raises a\u001b[39;00m\n\u001b[0;32m   (...)\u001b[0m\n\u001b[1;32m     83\u001b[0m \u001b[38;5;124;03m    y_pred : array or indicator matrix\u001b[39;00m\n\u001b[1;32m     84\u001b[0m \u001b[38;5;124;03m    \"\"\"\u001b[39;00m\n\u001b[0;32m---> 85\u001b[0m     check_consistent_length(y_true, y_pred)\n\u001b[1;32m     86\u001b[0m     type_true \u001b[38;5;241m=\u001b[39m type_of_target(y_true, input_name\u001b[38;5;241m=\u001b[39m\u001b[38;5;124m\"\u001b[39m\u001b[38;5;124my_true\u001b[39m\u001b[38;5;124m\"\u001b[39m)\n\u001b[1;32m     87\u001b[0m     type_pred \u001b[38;5;241m=\u001b[39m type_of_target(y_pred, input_name\u001b[38;5;241m=\u001b[39m\u001b[38;5;124m\"\u001b[39m\u001b[38;5;124my_pred\u001b[39m\u001b[38;5;124m\"\u001b[39m)\n",
      "File \u001b[0;32m~/miniconda3/envs/nlp/lib/python3.12/site-packages/sklearn/utils/validation.py:454\u001b[0m, in \u001b[0;36mcheck_consistent_length\u001b[0;34m(*arrays)\u001b[0m\n\u001b[1;32m    436\u001b[0m \u001b[38;5;28;01mdef\u001b[39;00m \u001b[38;5;21mcheck_consistent_length\u001b[39m(\u001b[38;5;241m*\u001b[39marrays):\n\u001b[1;32m    437\u001b[0m \u001b[38;5;250m    \u001b[39m\u001b[38;5;124;03m\"\"\"Check that all arrays have consistent first dimensions.\u001b[39;00m\n\u001b[1;32m    438\u001b[0m \n\u001b[1;32m    439\u001b[0m \u001b[38;5;124;03m    Checks whether all objects in arrays have the same shape or length.\u001b[39;00m\n\u001b[0;32m   (...)\u001b[0m\n\u001b[1;32m    451\u001b[0m \u001b[38;5;124;03m    >>> check_consistent_length(a, b)\u001b[39;00m\n\u001b[1;32m    452\u001b[0m \u001b[38;5;124;03m    \"\"\"\u001b[39;00m\n\u001b[0;32m--> 454\u001b[0m     lengths \u001b[38;5;241m=\u001b[39m [_num_samples(X) \u001b[38;5;28;01mfor\u001b[39;00m X \u001b[38;5;129;01min\u001b[39;00m arrays \u001b[38;5;28;01mif\u001b[39;00m X \u001b[38;5;129;01mis\u001b[39;00m \u001b[38;5;129;01mnot\u001b[39;00m \u001b[38;5;28;01mNone\u001b[39;00m]\n\u001b[1;32m    455\u001b[0m     uniques \u001b[38;5;241m=\u001b[39m np\u001b[38;5;241m.\u001b[39munique(lengths)\n\u001b[1;32m    456\u001b[0m     \u001b[38;5;28;01mif\u001b[39;00m \u001b[38;5;28mlen\u001b[39m(uniques) \u001b[38;5;241m>\u001b[39m \u001b[38;5;241m1\u001b[39m:\n",
      "\u001b[0;31mKeyboardInterrupt\u001b[0m: "
     ]
    }
   ],
   "source": [
    "for i in range(len(empty_array[i])):\n",
    "    for j in range(len(empty_array[i])):\n",
    "        if (i != j):\n",
    "          if (empty_array[j][i] == 0):\n",
    "            text1 = preprocess(df['Judul Fatwa'][i])\n",
    "            text2 = preprocess(df['Judul Fatwa'][j])\n",
    "            vector1, vector2 = tokenize(text1, text2)\n",
    "            similarity = calc_jaccard_similarity(vector1,vector2)\n",
    "            empty_array[i][j] = similarity\n",
    "          else:\n",
    "            continue\n",
    "        else:\n",
    "          empty_array[i][j] = 1\n",
    "          \n",
    "print(empty_array)"
   ]
  },
  {
   "cell_type": "code",
   "execution_count": null,
   "id": "8654d60f",
   "metadata": {},
   "outputs": [],
   "source": [
    "for i in range(len(empty_array[i])):\n",
    "    for j in range(len(empty_array[i])):\n",
    "        if(empty_array[i][j] > 0.5 and empty_array[i][j] < 1):\n",
    "            print(df['Judul Fatwa'][i], ' | ', df['Judul Fatwa'][j], ' | ', empty_array[i][j]);"
   ]
  },
  {
   "cell_type": "code",
   "execution_count": null,
   "id": "9a0188eb",
   "metadata": {},
   "outputs": [
    {
     "name": "stdout",
     "output_type": "stream",
     "text": [
      "AMIL ZAKAT  |  PENGELOLAAN ZAKAT 0.3333333333333333\n",
      "BADAL THAWAF IFADHAH (PELAKSANAAN THAWAF IFADHAH OLEH ORANG LAIN)  |  TASWIYAH AL-MANHAJ (PENYAMAAN POLA PIKIR DALAM MASALAH-MASALAH KEAGAMAAN) 0.0\n",
      "PENGGUNAAN PLASENTA HEWAN HALAL UNTUK BAHAN OBAT  |  PENGGUNAAN ALKOHOL / ETANOL UNTUK BAHAN OBAT 0.2857142857142857\n",
      "TRANSPLANTASI ORGAN DAN ATAU / JARINGAN TUBUH UNTUK DIRI SENDIRI  |  TRANSPLANTASI ORGAN DAN/ATAU JARINGAN TUBUH DARI PENDONOR HIDUP UNTUK ORANG LAIN 0.5\n",
      "PENDAFTARAN HAJI SAAT USIA DINI  |  PENDAFTARAN HAJI USIA DINI  |  1.0\n",
      "PRODUK VAKSIN COVID-19 DARI SINOVAC LIFE SCIENCES CO. LTD, CHINA DAN PT. BIO FARMA (PERSERO)  |  PRODUK VAKSIN COVID-19 DARI PT. BIOTIS PHARMACEUTICALS INDONESIA  |  0.25\n",
      "HUKUM PENGGUNAAN VAKSIN COVID-19 PRODUK SINOPHARM CNBG CHINA  |  HUKUM VAKSIN COVID-19 PRODUKSI CANSINO BIOLOGICS INC. CHINA  |  0.36363636363636365\n",
      "HUKUM DAN PANDUAN PELAKSANAAN IBADAH KURBAN SAAT KONDISI WABAH PENYAKIT MULUT DAN KUKU  |  HUKUM DAN PANDUAN PELAKSANAAN IBADAH KURBAN SAAT MEREBAKNYA PENYAKIT LSD DAN PPR PADA HEWAN KURBAN  |  0.42857142857142855\n",
      "SUMBANGAN DANA SOSIAL BERHADIAH (SDSB) I  |  SUMBANGAN DANA SOSIAL BERHADIAH (SDSB) II  |  0.8333333333333334\n",
      "PENYUCIAN (TATHHIR) MENGGUNAKAN CARA DRY CLEANING  |  PENYUCIAN (TATHHIR ) MENGGUNAKAN CARA WET CLEANING  |  0.6\n"
     ]
    }
   ],
   "source": [
    "print(df['Judul Fatwa'][7], ' | ', df['Judul Fatwa'][345], empty_array[7][345])\n",
    "print(df['Judul Fatwa'][14], ' | ', df['Judul Fatwa'][240], empty_array[14][241])\n",
    "print(df['Judul Fatwa'][23], ' | ', df['Judul Fatwa'][56], empty_array[23][56])\n",
    "print(df['Judul Fatwa'][60], ' | ', df['Judul Fatwa'][306], empty_array[60][306])\n",
    "print(df['Judul Fatwa'][80], ' | ', df['Judul Fatwa'][314], ' | ', empty_array[80][314])\n",
    "print(df['Judul Fatwa'][84], ' | ', df['Judul Fatwa'][191], ' | ', empty_array[84][191])\n",
    "print(df['Judul Fatwa'][92], ' | ', df['Judul Fatwa'][194], ' | ', empty_array[92][194])\n",
    "print(df['Judul Fatwa'][96], ' | ', df['Judul Fatwa'][234], ' | ', empty_array[96][234])\n",
    "print(df['Judul Fatwa'][154], ' | ', df['Judul Fatwa'][155], ' | ', empty_array[154][155])\n",
    "print(df['Judul Fatwa'][203], ' | ', df['Judul Fatwa'][205], ' | ', empty_array[203][205])"
   ]
  },
  {
   "cell_type": "code",
   "execution_count": null,
   "id": "98fdb0c7",
   "metadata": {},
   "outputs": [],
   "source": []
  }
 ],
 "metadata": {
  "kernelspec": {
   "display_name": "Python 3 (ipykernel)",
   "language": "python",
   "name": "python3"
  },
  "language_info": {
   "codemirror_mode": {
    "name": "ipython",
    "version": 3
   },
   "file_extension": ".py",
   "mimetype": "text/x-python",
   "name": "python",
   "nbconvert_exporter": "python",
   "pygments_lexer": "ipython3",
   "version": "3.12.2"
  }
 },
 "nbformat": 4,
 "nbformat_minor": 5
}
