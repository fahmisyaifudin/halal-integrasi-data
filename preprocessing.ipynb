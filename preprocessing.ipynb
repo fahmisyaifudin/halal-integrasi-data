{
 "cells": [
  {
   "cell_type": "code",
   "execution_count": 22,
   "metadata": {},
   "outputs": [],
   "source": [
    "import re\n",
    "from Sastrawi.Stemmer.StemmerFactory import StemmerFactory\n",
    "import spacy\n",
    "from nltk.corpus import stopwords\n",
    "\n",
    "nlp = spacy.blank('id')\n",
    "factory = StemmerFactory()\n",
    "stemmer = factory.create_stemmer()\n",
    "indonesia_s = stopwords.words('indonesian')\n",
    "\n",
    "def preprocess(text):\n",
    "    no_punctuation = re.sub(r'[^\\w\\s]','', text)\n",
    "    no_number = re.sub(r'\\d+', \"\", no_punctuation)\n",
    "    no_single_letter = ' '.join( [w for w in no_number.split() if len(w)>1] )\n",
    "    stem_output = stemmer.stem(no_single_letter)\n",
    "    doc = nlp(stem_output)\n",
    "    no_stop_words = [token.text for token in doc if not token.is_stop]\n",
    "    return \" \".join(no_stop_words) "
   ]
  },
  {
   "cell_type": "code",
   "execution_count": 27,
   "metadata": {},
   "outputs": [
    {
     "name": "stdout",
     "output_type": "stream",
     "text": [
      "pensucian ekstrak ragi yeast ekstract sisa olah bir brewer yeast\n"
     ]
    }
   ],
   "source": [
    "clean = preprocess(\"CARA PENSUCIAN EKSTRAK RAGI (YEAST EKSTRACT) DARI SISA PENGOLAHAN BIR (BREWER YEAST)\")\n",
    "print(clean)"
   ]
  },
  {
   "cell_type": "code",
   "execution_count": null,
   "metadata": {},
   "outputs": [],
   "source": []
  }
 ],
 "metadata": {
  "kernelspec": {
   "display_name": "nlp",
   "language": "python",
   "name": "python3"
  },
  "language_info": {
   "codemirror_mode": {
    "name": "ipython",
    "version": 3
   },
   "file_extension": ".py",
   "mimetype": "text/x-python",
   "name": "python",
   "nbconvert_exporter": "python",
   "pygments_lexer": "ipython3",
   "version": "3.12.2"
  }
 },
 "nbformat": 4,
 "nbformat_minor": 2
}
