{
 "cells": [
  {
   "cell_type": "code",
   "execution_count": 13,
   "metadata": {},
   "outputs": [],
   "source": [
    "import pandas as pd\n",
    "import numpy as np\n",
    "from numpy.linalg import norm"
   ]
  },
  {
   "cell_type": "code",
   "execution_count": 14,
   "metadata": {},
   "outputs": [
    {
     "data": {
      "text/html": [
       "<div>\n",
       "<style scoped>\n",
       "    .dataframe tbody tr th:only-of-type {\n",
       "        vertical-align: middle;\n",
       "    }\n",
       "\n",
       "    .dataframe tbody tr th {\n",
       "        vertical-align: top;\n",
       "    }\n",
       "\n",
       "    .dataframe thead th {\n",
       "        text-align: right;\n",
       "    }\n",
       "</style>\n",
       "<table border=\"1\" class=\"dataframe\">\n",
       "  <thead>\n",
       "    <tr style=\"text-align: right;\">\n",
       "      <th></th>\n",
       "      <th>No</th>\n",
       "      <th>Judul Fatwa</th>\n",
       "      <th>Tema Fatwa</th>\n",
       "      <th>Nomor Fatwa</th>\n",
       "      <th>Tgl Ditetapkan</th>\n",
       "    </tr>\n",
       "  </thead>\n",
       "  <tbody>\n",
       "    <tr>\n",
       "      <th>0</th>\n",
       "      <td>1</td>\n",
       "      <td>PANDUAN PENYELENGGARAAN IBADAH DI BULAN RAMADA...</td>\n",
       "      <td>Sosial Kemasyarakatan</td>\n",
       "      <td>KEPUTUSAN IJTIMA ULAMA KOMISI FATWA SE-INDONES...</td>\n",
       "      <td>16 December 2003</td>\n",
       "    </tr>\n",
       "    <tr>\n",
       "      <th>1</th>\n",
       "      <td>2</td>\n",
       "      <td>PENGGUNAAN MIKROBA DAN PRODUK MIKROBIAL DALAM ...</td>\n",
       "      <td>POM Iptek</td>\n",
       "      <td>01 Tahun 2010</td>\n",
       "      <td>19 January 2010</td>\n",
       "    </tr>\n",
       "    <tr>\n",
       "      <th>2</th>\n",
       "      <td>3</td>\n",
       "      <td>AIR DAUR ULANG</td>\n",
       "      <td>POM Iptek</td>\n",
       "      <td>02 Tahun 2010</td>\n",
       "      <td>27 January 2010</td>\n",
       "    </tr>\n",
       "    <tr>\n",
       "      <th>3</th>\n",
       "      <td>4</td>\n",
       "      <td>KIBLAT</td>\n",
       "      <td>Ibadah</td>\n",
       "      <td>03 Tahun 2010</td>\n",
       "      <td>1 February 2010</td>\n",
       "    </tr>\n",
       "    <tr>\n",
       "      <th>4</th>\n",
       "      <td>5</td>\n",
       "      <td>ARAH KIBLAT</td>\n",
       "      <td>Ibadah</td>\n",
       "      <td>05 Tahun 2010</td>\n",
       "      <td>1 July 2010</td>\n",
       "    </tr>\n",
       "  </tbody>\n",
       "</table>\n",
       "</div>"
      ],
      "text/plain": [
       "   No                                        Judul Fatwa  \\\n",
       "0   1  PANDUAN PENYELENGGARAAN IBADAH DI BULAN RAMADA...   \n",
       "1   2  PENGGUNAAN MIKROBA DAN PRODUK MIKROBIAL DALAM ...   \n",
       "2   3                                     AIR DAUR ULANG   \n",
       "3   4                                             KIBLAT   \n",
       "4   5                                        ARAH KIBLAT   \n",
       "\n",
       "              Tema Fatwa                                        Nomor Fatwa  \\\n",
       "0  Sosial Kemasyarakatan  KEPUTUSAN IJTIMA ULAMA KOMISI FATWA SE-INDONES...   \n",
       "1              POM Iptek                                      01 Tahun 2010   \n",
       "2              POM Iptek                                      02 Tahun 2010   \n",
       "3                 Ibadah                                      03 Tahun 2010   \n",
       "4                 Ibadah                                      05 Tahun 2010   \n",
       "\n",
       "     Tgl Ditetapkan  \n",
       "0  16 December 2003  \n",
       "1   19 January 2010  \n",
       "2   27 January 2010  \n",
       "3   1 February 2010  \n",
       "4       1 July 2010  "
      ]
     },
     "execution_count": 14,
     "metadata": {},
     "output_type": "execute_result"
    }
   ],
   "source": [
    "df = pd.read_csv(\"fatwa-mui.csv\")\n",
    "df.head()"
   ]
  },
  {
   "cell_type": "code",
   "execution_count": 15,
   "metadata": {},
   "outputs": [],
   "source": [
    "import re\n",
    "from Sastrawi.Stemmer.StemmerFactory import StemmerFactory\n",
    "import spacy\n",
    "from nltk.corpus import stopwords\n",
    "\n",
    "nlp = spacy.blank('id')\n",
    "factory = StemmerFactory()\n",
    "stemmer = factory.create_stemmer()\n",
    "indonesia_s = stopwords.words('indonesian')\n",
    "\n",
    "def preprocess(text):\n",
    "    no_punctuation = re.sub(r'[^\\w\\s]','', text)\n",
    "    no_number = re.sub(r'\\d+', \"\", no_punctuation)\n",
    "    no_single_letter = ' '.join( [w for w in no_number.split() if len(w)>1] )\n",
    "    stem_output = stemmer.stem(no_single_letter)\n",
    "    doc = nlp(stem_output)\n",
    "    no_stop_words = [token.text for token in doc if not token.is_stop]\n",
    "    return \" \".join(no_stop_words) "
   ]
  },
  {
   "cell_type": "code",
   "execution_count": 16,
   "metadata": {},
   "outputs": [],
   "source": [
    "def calc_euclidian_distance(array1, array2):\n",
    "    sum_sq = np.sum(np.square(array1 - array2))\n",
    "    return np.sqrt(sum_sq)"
   ]
  },
  {
   "cell_type": "code",
   "execution_count": 17,
   "metadata": {},
   "outputs": [],
   "source": [
    "n = len(df)\n",
    "empty_array = np.zeros((n, n))"
   ]
  },
  {
   "cell_type": "code",
   "execution_count": 18,
   "metadata": {},
   "outputs": [
    {
     "name": "stdout",
     "output_type": "stream",
     "text": [
      "['pandu selenggara ibadah ramadan syawal', 'mikroba produk mikrobial produk pangan', 'air daur ulang', 'kiblat', 'arah kiblat', 'vaksin meningitis jemaah haji umrah', 'kopi luwak', 'amil zakat', 'pensucian alat produksi kena najis mutawassithah najis air', 'pensucian ekstrak ragi yeast ekstract sisa olah bir brewer yeast', 'hukum zakat harta haram', 'salur harta zakat bentuk aset kelola', 'tari pelihara salur harta zakat', 'hukum warna makan minum serangga cochineal', 'badal thawaf ifadhah laksana thawaf ifadhah orang', 'sembelih hewan dam haji tamattu tanah haram', 'sarang burung walet', 'duduk anak hasil zina laku hadap', 'semir rambut', 'hukum konsumsi bekicot', 'penyalahgunaan formalin bahan bahaya tangan olah ikan', 'manfaat bekicot non pangan', 'bulu rambut tanduk hewan halal sembelih syar bahan pangan obat obat kosmetika', 'plasenta hewan halal bahan obat', 'hukum hewan ternak pakan barang najis', 'istri', 'standar halal produk kosmetika', 'shellac bahan pangan obatobatan kosmetika', 'putar donor air susu istirdla', 'obat obat', 'manfaat area masjid giat sosial nila ekonomis', 'rekayasa genetika produk', 'lestari satwa langka jaga imbang ekosistem', 'jual beli tanah kubur bisnis lahan kubur mewah', 'bayar dam haji tamattu qiran kolektif', 'hukum produsen bandar edar salah narkoba', 'status tanah bangun masjid', 'kulit hewan manfaat', 'lesbian gay sodomi cabul', 'hasil ijtima', 'imunisasi', 'alir gera fajar nusantara gafatar', 'curi energi listrik', 'hukum hina kafir sahabat nabi muhammad saw', 'hukum bakar hutan lahan kendali', 'laksana shalat jumat dzikir giat agama masjid', 'hukum atribut agama nonmuslim', 'hukum ragu sempurna al quran', 'kemashuman imam ishamatul imam', 'produk vaksin influenza hualan biological bacterin co ltd xinxiang china', 'hukum penyelenggaran shalat jumat orang daerah', 'hukum pedoman muamalah media sosial', 'udzur syar orang meningggalkan shalat jumat', 'produk makan minum kandung alkohol etanol', 'produk kosmetika kandung alkohol etanol', 'vaksin mr measles rubella produk sari sii serum institute of india imuniasasi', 'alkohol etanol bahan obat', 'hukum konsumsi daging kanguru', 'plasma darah bahan obat', 'partikel emas produk kosmetika lakilaki', 'transplantasi organ jaring tubuh', 'transplantasi organ aring tubuh donor mati orang', 'tranplantasi organ jaring tubuh donor hidup orang', 'larva lalat tentara hitam hermetia illucenes black solider fly', 'awet pendristibusian daging kurban bentuk olah', 'hukum konsumsi daging bajing tupai', 'hukum lihat mushaf shalat', 'hukum konsumsi daging bulus', 'kelola sampah cegah rusa lingkung', 'manfaat harta zakat infaq shadaqah tanggulang wabah covid dampak', 'suci tathhir mesin alat kena najis berat mughalladzah air', 'bedah plastik', 'suntik botox cantik awat', 'pandu kaifiat takbir shalat idul fitri pandemi covid', 'selenggara shalat jumat jamaah cegah tular wabah covid', 'standar sertifikasi halal kosmetika tembus air', 'pedoman kaifiat shalat tenaga sehat pakai alat lindung apd rawat tangan pasien covid', 'pedoman urus jenazah tajhiz aljanaiz muslim infeksi covid', 'shalat idul adha sembelih hewan kurban wabah covid', 'human diploid cell bahan produksi obat vaksin', 'daftar haji usia', 'pakai masker orang ihram', 'bayar setor haji utang biaya', 'tunda daftar haji', 'produk vaksin covid sinovac life sciences co ltd china pt bio farma persero', 'hukum gen sintetik manusia rekombinaan dna obat vaksin', 'hukum vaksinasi covid puasa', 'hukum vaksin covid produk astrazaneca', 'standar sertifikasi halal hadap barang bahan hewani', 'hukum ekstrasi madu sarang lebah', 'hukum kokon ulat sutera kosmetika', 'hukum tes swab deteksi covid puasa', 'hukum vaksin covid produk sinopharm cnbg china', 'hukum selenggara shalat jumat virtual', 'hukum standar sertifikasi halal sembelih hewan mesin', 'hukum vaksin covid produk ptpfizer', 'hukum pandu laksana ibadah kurban kondisi wabah sakit mulut kuku', 'jamaah khalifah baiat', 'islam jamaah', 'ahmadiyah qadiyan', 'dangkal agama penyalahgunaan dalil', 'kawin campur', 'faham syiah', 'alir tolak sunahhadis rasul', 'darul arqam', 'malaikat jibril damping manusia', 'terorisme', 'dukun kahanah amal irafah', 'pluralisme liberalisme sekularisme agama', 'alir ahmadiyah', 'alir alqiyadah alislamiyah', 'shalat jumat musafir kapal', 'pelopor jabat laksana ibadah', 'pil anti haid', 'istithaah laksana ibadah haji', 'doa daful bala', 'miqat haji umroh', 'shalat puasa daerah siang malam imbang', 'ramadhan syawal idul fitri zulhijjah idul adha', 'miqat haji umrah ii', 'talak', 'iddah wafat', 'mabit muzdalifah', 'mabit mina', 'intensifikasi laksana zakat', 'mentasharufkan dana zakat giat produktif maslahat', 'qiraat sabah', 'shalat masjid tingkat', 'ibadah haji umur hidup', 'zakat beasiswa', 'miqat makan', 'laksana shalat jumat gelombang', 'haji narapidana', 'zakat hasil', 'dana zakat istitsmar investasi', 'ramadhan syawal dzulhijjah', 'shalat terjemah baca', 'doa', 'wanita imam shalat', 'hukum larang khitan hadap perempuan', 'shalat sandang stoma ostomate', 'puasa terbang pilot', 'hidup sederhana', 'tulis alquran huruf arab', 'hadap sidang mpr', 'pindah jenazah', 'raya natal', 'panti pijat', 'duduk sehat bangun', 'nyanyi ayatayat suci alquran', 'adopsi angkat anak', 'pendayagunaan tanah waris', 'museum mayat', 'hukum peran nabi rasul orang suci film', 'sumbang dana sosial hadiah sdsb', 'sumbang dana sosial hadiah sdsb ii', 'tanggulang tular hivaids', 'prosedur nikah', 'sighat taliq talaq upacara akad nikah', 'tuntun syariah islam sikap gaul rawat derita hivaids', 'reksadana syariah', 'nikah mutah', 'duduk waria', 'pedoman gali dana tingkat kualitas olahraga nasional', 'risywah suap ghulul korupsi hadiah jabat', 'bias gender', 'aborsi', 'hakhak asasi manusia', 'kirim tenaga kerja wanita tkw negeri', 'pornografi pornoaksi', 'hak cipta', 'serang amerika serikat sekutu hadap irak', 'bunga interestfaidah', 'waris saudara kandung lakilaki saudara lakilaki anak perempuan tunggal', 'urus jenazah tajhiz al janaiz darurat', 'hukum aborsi', 'fatwa pornografi pornoaksi', 'fatwa serang amerika serikat sekutu hadap irak', 'wakaf uang', 'hak asasi manusia ham', 'bunga interset faidah', 'tempel foto mushaf alquran mulia quran', 'lindung hak hak kaya intelektual', 'kawin beda agama', 'waris beda agama', 'kriteria maslahat', 'cabut hak milik pribadi', 'hukum mati tindak pidana', 'sms hadiah', 'nikah tangan', 'pakai kerja tenaga medis perempuan', 'produk vaksin covid pt biotis pharmaceuticals indonesia', 'produk vaksin covid beijing institute of biological products co ltd', 'hukum vaksin covid produksi serum institute of india pvt', 'hukum vaksin covid produksi cansino biologics inc china', 'hukum masalahmasalah kait zakat fitrah', 'manfaat harta zakat tanggulang bencana dampak', 'hukum zakat barang gadai', 'produk danatau bahan laku uji laboratorium', 'pandu selenggara ibadah ramadhan idul fitri', 'tanam benang cantik awat wajah', 'filler cantik awat wajah', 'nama bentuk kemas produk sertifikasi halal', 'suci tathhir dry cleaning', 'stem cell sel punca tuju obat', 'suci tathhir wet cleaning', 'penyalahgunaan narkotika', 'sembelih hewan mekanis', 'vasectomi tubectomi', 'wasiat hibah kornea mata', 'bayi tabung inseminasi', 'operasi ubah sempurna kelamin', 'makan minum campur najis', 'sakit kusta', 'makan daging kelinci', 'makan membudidayakan kodok', 'ambil katup jantung', 'hukum alkohol minum', 'kloning', 'organ tubuh', 'pedoman lapor hasil audit potong hewan', 'produk sedap monosodium glutamate msg pt ajinomoto indonesia bacto soytone', 'produk halal', 'produk sedap monosodium glutamate msg pt ajinomoto indonesia mameno', 'kepiting', 'vaksin polio khusus ipv', 'standar fatwa halal', 'pengguanaan vaskin polio oral opv', 'awet jenazah teliti', 'hukum alkohol', 'standar sertifikasi sembelih halal', 'fatwa imunisasi', 'hukum wanita khatib rangkai shalat jumat', 'hukum pedoman tangan mushaf layak', 'hukum pandu laksana ibadah kurban rebak sakit lsd ppr hewan kurban', 'ubah sempurna jenis kelamin', 'penyelenggaran ibadah situasi wabah covid', 'hukum penyelenggaran shalat jumat orang daerah', 'teguh bentuk eksistensi negara republik indonesia', 'harmonisasi kerangka berfikir agama konteks bangsa', 'taswiyah almanhaj pola pikir masalahmasalah agama', 'tansiq alharakah koordinasi langkah strategis masalahmasalah agama', 'biaya bangun utang', 'kelola sumber daya alam', 'transfer embrio rahim titip', 'obat alternatif', 'ruu anti pornografi pornoaksi', 'masalahmasalah kritis audit produk halal', 'ruu hapus diskriminasi ras etnis', 'ruu perban syariah', 'jaga eksistensi negara wajib bela negara', 'perdaperda daerah bulukumba cianjur cilegon padang tangerang lainlain', 'implementasi konsep ham hidup bangsa negara', 'etika demonstrasi bebas ekspres', 'talak adil', 'peran agama bina akhlak bangsa', 'tindak pidana cuci uang', 'nikotin bahan aktif produk konsumtif obat', 'implementasi islam rahmat lilalamin shalihun likulli zamanin wa makanin hidup masyarakat bangsa negara', 'wajib transaksi syariah', 'hubung agama politik hidup bangsa negara', 'status milik dana setor bpih masuk daftar tunggu waiting list', 'putus ijtima ulama komisi fatwa indonesia iii uu no wakaf atur perintah nomor laksana undangundang nomor', 'hukum dana bpih bank konvensional', 'formalin bahan kimia bahaya pangan', 'shalat jumat gedung serbaguna', 'zakat mal bantu hukum', 'vasektomi', 'tanggung wewenang ulil amri laksana wajib bayar zakat', 'obyek zakat hasil', 'tindak uu no pornografi', 'duduk dana abadi umat syariah', 'ruu pilih kepala daerah', 'ruu tara adil gender', 'ruu kuhp', 'tindak uu no perban syariah', 'ruu jamin produk halal', 'serap hukum islam hukum nasional', 'radikalisme agama tanggulang', 'duduk pimpin janji', 'kriteriapengkafiran dhawabit attakfir', 'manfaat tanah sejahtera umat bangsa', 'haji ulang', 'hukum bangun masjid bedekatan', 'hak asuh anak orang tua cerai beda agama', 'pandu sehat nasional jamin sehat', 'status hukum iur manfaat pensiun hubung tirkah', 'istithaah', 'prinsipprinsip perintah islam', 'kriteria taat ulil amri perintah batas', 'imbal proses calon jabat publik', 'pedoman pensyarian atur perundangundangan', 'pandang mui ruu tembakau', 'pandang mui ruu hapus keras seksual', 'pandang ruu larang minum alkohol', 'pandang kriminalisasi hadap lgbt', 'pandang ruu hukum materiil adil agama hmpa bidang kawin', 'pandang alir percaya hadap tuhan yme isi kolom ktpelektronik anut percaya hadap tuhan yme', 'pandang ruu lembaga didik agama pesantren lpkp', 'laksana shalat jumat orang dearah', 'pensucian ekstrak ragi yeast extract sisa pengolahah bir brewer yeast', 'laksa shalat jumat dzikir giat agama masjid', 'tambang ramah lingkung', 'hukum vaksin covid produksi serum institute of india pvt', 'penyalahgunaan ecstasy zatzat jenis', 'makan budidaya cacing jangkrik', 'transplantasi organ danatau jaring tubuh donor hidup orang', 'nikah wisata', 'produk vaksin covid anhui zhifei longcom biopharmaceutical co ltd', 'hukum sel ovarium hamster cina chinese hamster ovary cell obat vaksin', 'hukum hamster china', 'otopsi jenazah', 'plasenta hewan halal bahan kosmetika obat', 'ruu hukum materil adil agama bidang kawin', 'daftar haji usia', 'hukum vaksin pfizer', 'pedoman awas syariah badan amil zakat nasionallembaga amil zakat', 'hukum sel hek produksi vaksin obat produk biologi', 'hukum rokok', 'distribusi lahan perata maslahat fungsionalisme tanah', 'dlawabit kriteria noda agama', 'pandu milu pemilukada maslahat bangsa indonesia', 'tinjau pajak bea cukai retribusi', 'hukum zakat usaha', 'hukum salur dana zakat bentuk alqardh alhasan', 'hukum zakat saham', 'hukum nikah online', 'pedoman keras suara masjidmusholla', 'atur menteri didik budaya riset teknologi mendikbudristek no cegah tangan keras seksual lingkung guru', 'transplantasi rahim', 'tinjau atur tata kelola sertifikasi halal', 'tinjau ruu kitab undangundang hukum pidana ruu kuhp', 'tinjau rancang undangundang larang minum alkohol', 'senam yoga', 'konsumsi makan halal', 'nikah usia', 'hukum dukung hadap juang palestina', 'hukum pinjam online pinjol', 'jihad khilafah konteks negara republik indonesia', 'hukum jama shalat laksana', 'pandang wacana terbit perppu uu kawin', 'bayar zakat hasil penuh syarat wajib', 'pedoman fatwa', 'hukum cryptocurrency', 'sehat', 'kelola zakat', 'dana talang haji', 'sita aset laku tindak pidanan', 'rukun umat agama', 'ruu guru', 'ruu ubah uu mahkamah agung', 'fikih kait istithaah sehat haji', 'safari wukuf', 'badal lempar jumrah', 'alkoholetanol bahan obat', 'plasma darah bahan obat', 'eksekusi hukum mati pidana narkoba', 'masuk bentuk undangundang', 'pajak beban rakyat', 'bentuk komite nasional ekonomi syariah', 'awas dana desa', 'dasar hukum pakai jilbab prajurit korp wanita tni', 'pornografi prostitusi online', 'rekrutmen pimpin kpk priode', 'ruu larang minum alkohol', 'minyak gas bumi', 'tinjau hadap perundangundangb laku', 'tinjau', 'usul bentuk undangundang', 'daya ekonomi umat', 'prinsipprinsip ukhuwah pilar kuat negara republik indonesia', 'bank mata organ tubuh', 'prinsip ajar islam hubung umat agama bingkai negara republik indonesia', 'hak pilih pilih', 'selenggara ibadah haji', 'pornografi', 'perban syariah', 'kompilasi hukum ekonomi syariah', 'didik agama agama', 'hukum lindung ubah iklim global']\n"
     ]
    }
   ],
   "source": [
    "corpus = []\n",
    "for i in range(n):\n",
    "    corpus.append(preprocess(df['Judul Fatwa'][i]));\n",
    "print(corpus)"
   ]
  },
  {
   "cell_type": "code",
   "execution_count": 19,
   "metadata": {},
   "outputs": [],
   "source": [
    "from sklearn.feature_extraction.text import TfidfVectorizer\n",
    "\n",
    "v = TfidfVectorizer()\n",
    "v.fit(corpus)\n",
    "transform_output = v.transform(corpus)"
   ]
  },
  {
   "cell_type": "code",
   "execution_count": 20,
   "metadata": {},
   "outputs": [
    {
     "name": "stdout",
     "output_type": "stream",
     "text": [
      "{'pandu': 523, 'selenggara': 658, 'ibadah': 259, 'ramadan': 610, 'syawal': 709, 'mikroba': 454, 'produk': 585, 'mikrobial': 455, 'pangan': 524, 'air': 8, 'daur': 158, 'ulang': 779, 'kiblat': 347, 'arah': 41, 'vaksin': 794, 'meningitis': 449, 'jemaah': 310, 'haji': 232, 'umrah': 783, 'kopi': 366, 'luwak': 418, 'amil': 32, 'zakat': 822, 'pensucian': 537, 'alat': 16, 'produksi': 586, 'kena': 335, 'najis': 480, 'mutawassithah': 477, 'ekstrak': 189, 'ragi': 605, 'yeast': 819, 'ekstract': 188, 'sisa': 683, 'olah': 504, 'bir': 104, 'brewer': 109, 'hukum': 255, 'harta': 241, 'haram': 239, 'salur': 640, 'bentuk': 90, 'aset': 46, 'kelola': 332, 'tari': 730, 'pelihara': 529, 'warna': 812, 'makan': 422, 'minum': 459, 'serangga': 664, 'cochineal': 137, 'badal': 60, 'thawaf': 748, 'ifadhah': 262, 'laksana': 390, 'orang': 510, 'sembelih': 659, 'hewan': 245, 'dam': 148, 'tamattu': 719, 'tanah': 721, 'sarang': 643, 'burung': 117, 'walet': 808, 'duduk': 175, 'anak': 34, 'hasil': 242, 'zina': 826, 'laku': 391, 'hadap': 229, 'semir': 660, 'rambut': 613, 'konsumsi': 361, 'bekicot': 85, 'penyalahgunaan': 540, 'formalin': 209, 'bahan': 62, 'bahaya': 63, 'tangan': 724, 'ikan': 267, 'manfaat': 428, 'non': 496, 'bulu': 112, 'tanduk': 723, 'halal': 235, 'syar': 706, 'obat': 500, 'kosmetika': 370, 'plasenta': 568, 'ternak': 745, 'pakan': 519, 'barang': 73, 'istri': 298, 'standar': 691, 'shellac': 674, 'obatobatan': 501, 'putar': 597, 'donor': 173, 'susu': 703, 'istirdla': 295, 'area': 42, 'masjid': 431, 'giat': 225, 'sosial': 689, 'nila': 492, 'ekonomis': 183, 'rekayasa': 621, 'genetika': 222, 'lestari': 403, 'satwa': 645, 'langka': 393, 'jaga': 301, 'imbang': 272, 'ekosistem': 184, 'jual': 316, 'beli': 87, 'kubur': 379, 'bisnis': 105, 'lahan': 386, 'mewah': 453, 'bayar': 75, 'qiran': 602, 'kolektif': 354, 'produsen': 588, 'bandar': 68, 'edar': 181, 'salah': 639, 'narkoba': 483, 'status': 692, 'bangun': 70, 'kulit': 382, 'lesbian': 402, 'gay': 217, 'sodomi': 687, 'cabul': 118, 'ijtima': 266, 'imunisasi': 275, 'alir': 19, 'gera': 223, 'fajar': 200, 'nusantara': 498, 'gafatar': 213, 'curi': 142, 'energi': 193, 'listrik': 413, 'hina': 249, 'kafir': 320, 'sahabat': 636, 'nabi': 479, 'muhammad': 468, 'saw': 647, 'bakar': 66, 'hutan': 258, 'kendali': 336, 'shalat': 672, 'jumat': 318, 'dzikir': 178, 'agama': 5, 'atribut': 49, 'nonmuslim': 497, 'ragu': 606, 'sempurna': 661, 'al': 14, 'quran': 603, 'kemashuman': 334, 'imam': 270, 'ishamatul': 292, 'influenza': 281, 'hualan': 253, 'biological': 100, 'bacterin': 58, 'co': 136, 'ltd': 417, 'xinxiang': 818, 'china': 128, 'penyelenggaran': 541, 'daerah': 143, 'pedoman': 528, 'muamalah': 466, 'media': 443, 'udzur': 775, 'meningggalkan': 448, 'kandung': 324, 'alkohol': 22, 'etanol': 194, 'mr': 464, 'measles': 442, 'rubella': 630, 'sari': 644, 'sii': 678, 'serum': 669, 'institute': 283, 'of': 503, 'india': 277, 'imuniasasi': 274, 'daging': 146, 'kanguru': 325, 'plasma': 569, 'darah': 154, 'partikel': 526, 'emas': 191, 'lakilaki': 388, 'transplantasi': 760, 'organ': 511, 'jaring': 309, 'tubuh': 763, 'aring': 43, 'mati': 440, 'tranplantasi': 757, 'hidup': 248, 'larva': 397, 'lalat': 392, 'tentara': 741, 'hitam': 250, 'hermetia': 244, 'illucenes': 269, 'black': 106, 'solider': 688, 'fly': 208, 'awet': 55, 'pendristibusian': 533, 'kurban': 383, 'bajing': 65, 'tupai': 772, 'lihat': 407, 'mushaf': 474, 'bulus': 114, 'sampah': 641, 'cegah': 125, 'rusa': 632, 'lingkung': 411, 'infaq': 279, 'shadaqah': 671, 'tanggulang': 726, 'wabah': 801, 'covid': 138, 'dampak': 149, 'suci': 698, 'tathhir': 733, 'mesin': 452, 'berat': 91, 'mughalladzah': 467, 'bedah': 82, 'plastik': 570, 'suntik': 702, 'botox': 107, 'cantik': 124, 'awat': 54, 'kaifiat': 322, 'takbir': 714, 'idul': 261, 'fitri': 207, 'pandemi': 522, 'jamaah': 303, 'tular': 766, 'sertifikasi': 668, 'tembus': 738, 'tenaga': 740, 'sehat': 652, 'pakai': 518, 'lindung': 410, 'apd': 39, 'rawat': 618, 'pasien': 527, 'urus': 788, 'jenazah': 311, 'tajhiz': 713, 'aljanaiz': 21, 'muslim': 475, 'infeksi': 280, 'adha': 2, 'human': 256, 'diploid': 167, 'cell': 126, 'daftar': 144, 'usia': 790, 'masker': 433, 'ihram': 263, 'setor': 670, 'utang': 792, 'biaya': 94, 'tunda': 768, 'sinovac': 681, 'life': 406, 'sciences': 648, 'pt': 592, 'bio': 98, 'farma': 201, 'persero': 550, 'gen': 220, 'sintetik': 682, 'manusia': 429, 'rekombinaan': 622, 'dna': 171, 'vaksinasi': 795, 'puasa': 594, 'astrazaneca': 47, 'hewani': 246, 'ekstrasi': 190, 'madu': 420, 'lebah': 399, 'kokon': 353, 'ulat': 780, 'sutera': 704, 'tes': 747, 'swab': 705, 'deteksi': 164, 'sinopharm': 680, 'cnbg': 135, 'virtual': 799, 'ptpfizer': 593, 'kondisi': 359, 'sakit': 638, 'mulut': 471, 'kuku': 381, 'khalifah': 342, 'baiat': 64, 'islam': 294, 'ahmadiyah': 7, 'qadiyan': 600, 'dangkal': 153, 'dalil': 147, 'kawin': 328, 'campur': 122, 'faham': 198, 'syiah': 710, 'tolak': 756, 'sunahhadis': 701, 'rasul': 617, 'darul': 155, 'arqam': 44, 'malaikat': 425, 'jibril': 313, 'damping': 150, 'terorisme': 746, 'dukun': 176, 'kahanah': 321, 'amal': 29, 'irafah': 290, 'pluralisme': 571, 'liberalisme': 405, 'sekularisme': 655, 'alqiyadah': 26, 'alislamiyah': 20, 'musafir': 472, 'kapal': 326, 'pelopor': 530, 'jabat': 300, 'pil': 560, 'anti': 37, 'haid': 231, 'istithaah': 296, 'doa': 172, 'daful': 145, 'bala': 67, 'miqat': 461, 'umroh': 784, 'siang': 675, 'malam': 426, 'ramadhan': 611, 'zulhijjah': 827, 'ii': 264, 'talak': 715, 'iddah': 260, 'wafat': 803, 'mabit': 419, 'muzdalifah': 478, 'mina': 458, 'intensifikasi': 285, 'mentasharufkan': 450, 'dana': 151, 'produktif': 587, 'maslahat': 434, 'qiraat': 601, 'sabah': 634, 'tingkat': 750, 'umur': 785, 'beasiswa': 78, 'gelombang': 219, 'narapidana': 482, 'istitsmar': 297, 'investasi': 288, 'dzulhijjah': 179, 'terjemah': 744, 'baca': 57, 'wanita': 809, 'larang': 396, 'khitan': 345, 'perempuan': 547, 'sandang': 642, 'stoma': 694, 'ostomate': 512, 'terbang': 742, 'pilot': 563, 'sederhana': 651, 'tulis': 767, 'alquran': 27, 'huruf': 257, 'arab': 40, 'sidang': 676, 'mpr': 463, 'pindah': 565, 'raya': 619, 'natal': 487, 'panti': 525, 'pijat': 558, 'nyanyi': 499, 'ayatayat': 56, 'adopsi': 4, 'angkat': 35, 'pendayagunaan': 532, 'waris': 811, 'museum': 473, 'mayat': 441, 'peran': 542, 'film': 205, 'sumbang': 699, 'hadiah': 230, 'sdsb': 649, 'hivaids': 251, 'prosedur': 589, 'nikah': 490, 'sighat': 677, 'taliq': 718, 'talaq': 717, 'upacara': 787, 'akad': 11, 'tuntun': 771, 'syariah': 708, 'sikap': 679, 'gaul': 216, 'derita': 162, 'reksadana': 624, 'mutah': 476, 'waria': 810, 'gali': 214, 'kualitas': 377, 'olahraga': 505, 'nasional': 485, 'risywah': 628, 'suap': 696, 'ghulul': 224, 'korupsi': 369, 'bias': 93, 'gender': 221, 'aborsi': 1, 'hakhak': 234, 'asasi': 45, 'kirim': 349, 'kerja': 341, 'tkw': 754, 'negeri': 489, 'pornografi': 576, 'pornoaksi': 575, 'hak': 233, 'cipta': 133, 'serang': 663, 'amerika': 31, 'serikat': 667, 'sekutu': 656, 'irak': 291, 'bunga': 116, 'interestfaidah': 286, 'saudara': 646, 'tunggal': 769, 'janaiz': 305, 'darurat': 156, 'fatwa': 202, 'wakaf': 807, 'uang': 773, 'ham': 236, 'interset': 287, 'faidah': 199, 'tempel': 739, 'foto': 210, 'mulia': 470, 'kaya': 329, 'intelektual': 284, 'beda': 81, 'kriteria': 373, 'cabut': 119, 'milik': 456, 'pribadi': 580, 'tindak': 749, 'pidana': 556, 'sms': 686, 'medis': 444, 'biotis': 103, 'pharmaceuticals': 555, 'indonesia': 278, 'beijing': 84, 'products': 584, 'pvt': 599, 'cansino': 123, 'biologics': 101, 'inc': 276, 'masalahmasalah': 430, 'kait': 323, 'fitrah': 206, 'bencana': 89, 'gadai': 212, 'danatau': 152, 'uji': 776, 'laboratorium': 385, 'tanam': 722, 'benang': 88, 'wajah': 805, 'filler': 204, 'nama': 481, 'kemas': 333, 'dry': 174, 'cleaning': 134, 'stem': 693, 'sel': 657, 'punca': 596, 'tuju': 765, 'wet': 814, 'narkotika': 484, 'mekanis': 445, 'vasectomi': 796, 'tubectomi': 762, 'wasiat': 813, 'hibah': 247, 'kornea': 367, 'mata': 437, 'bayi': 76, 'tabung': 712, 'inseminasi': 282, 'operasi': 507, 'ubah': 774, 'kelamin': 330, 'kusta': 384, 'kelinci': 331, 'membudidayakan': 446, 'kodok': 352, 'ambil': 30, 'katup': 327, 'jantung': 308, 'kloning': 351, 'lapor': 395, 'audit': 52, 'potong': 577, 'sedap': 650, 'monosodium': 462, 'glutamate': 227, 'msg': 465, 'ajinomoto': 10, 'bacto': 59, 'soytone': 690, 'mameno': 427, 'kepiting': 338, 'polio': 573, 'khusus': 346, 'ipv': 289, 'pengguanaan': 534, 'vaskin': 798, 'oral': 509, 'opv': 508, 'teliti': 736, 'khatib': 343, 'rangkai': 615, 'layak': 398, 'rebak': 620, 'lsd': 416, 'ppr': 578, 'jenis': 312, 'situasi': 685, 'teguh': 734, 'eksistensi': 186, 'negara': 488, 'republik': 625, 'harmonisasi': 240, 'kerangka': 339, 'berfikir': 92, 'konteks': 363, 'bangsa': 69, 'taswiyah': 731, 'almanhaj': 24, 'pola': 572, 'pikir': 559, 'tansiq': 728, 'alharakah': 17, 'koordinasi': 365, 'langkah': 394, 'strategis': 695, 'sumber': 700, 'daya': 159, 'alam': 15, 'transfer': 759, 'embrio': 192, 'rahim': 607, 'titip': 753, 'alternatif': 28, 'ruu': 633, 'kritis': 375, 'hapus': 238, 'diskriminasi': 168, 'ras': 616, 'etnis': 196, 'perban': 544, 'wajib': 806, 'bela': 86, 'perdaperda': 546, 'bulukumba': 113, 'cianjur': 130, 'cilegon': 131, 'padang': 516, 'tangerang': 725, 'lainlain': 387, 'implementasi': 273, 'konsep': 360, 'etika': 195, 'demonstrasi': 161, 'bebas': 80, 'ekspres': 187, 'adil': 3, 'bina': 96, 'akhlak': 12, 'cuci': 140, 'nikotin': 491, 'aktif': 13, 'konsumtif': 362, 'rahmat': 608, 'lilalamin': 409, 'shalihun': 673, 'likulli': 408, 'zamanin': 823, 'wa': 800, 'makanin': 423, 'masyarakat': 436, 'transaksi': 758, 'hubung': 254, 'politik': 574, 'bpih': 108, 'masuk': 435, 'tunggu': 770, 'waiting': 804, 'list': 412, 'putus': 598, 'ulama': 778, 'komisi': 356, 'iii': 265, 'uu': 793, 'no': 493, 'atur': 51, 'perintah': 548, 'nomor': 495, 'undangundang': 786, 'bank': 71, 'konvensional': 364, 'kimia': 348, 'gedung': 218, 'serbaguna': 666, 'mal': 424, 'bantu': 72, 'vasektomi': 797, 'tanggung': 727, 'wewenang': 815, 'ulil': 781, 'amri': 33, 'obyek': 502, 'abadi': 0, 'umat': 782, 'pilih': 562, 'kepala': 337, 'tara': 729, 'kuhp': 380, 'jamin': 304, 'serap': 665, 'radikalisme': 604, 'pimpin': 564, 'janji': 307, 'kriteriapengkafiran': 374, 'dhawabit': 165, 'attakfir': 50, 'sejahtera': 653, 'bedekatan': 83, 'asuh': 48, 'tua': 761, 'cerai': 127, 'iur': 299, 'pensiun': 536, 'tirkah': 752, 'prinsipprinsip': 582, 'taat': 711, 'batas': 74, 'imbal': 271, 'proses': 590, 'calon': 121, 'publik': 595, 'pensyarian': 538, 'perundangundangan': 551, 'pandang': 521, 'mui': 469, 'tembakau': 737, 'keras': 340, 'seksual': 654, 'kriminalisasi': 372, 'lgbt': 404, 'materiil': 438, 'hmpa': 252, 'bidang': 95, 'percaya': 545, 'tuhan': 764, 'yme': 820, 'isi': 293, 'kolom': 355, 'ktpelektronik': 376, 'anut': 38, 'lembaga': 400, 'didik': 166, 'pesantren': 553, 'lpkp': 415, 'dearah': 160, 'extract': 197, 'pengolahah': 535, 'laksa': 389, 'tambang': 720, 'ramah': 612, 'ecstasy': 180, 'zatzat': 824, 'budidaya': 111, 'cacing': 120, 'jangkrik': 306, 'wisata': 816, 'anhui': 36, 'zhifei': 825, 'longcom': 414, 'biopharmaceutical': 102, 'ovarium': 514, 'hamster': 237, 'cina': 132, 'chinese': 129, 'ovary': 515, 'otopsi': 513, 'materil': 439, 'pfizer': 554, 'awas': 53, 'badan': 61, 'nasionallembaga': 486, 'hek': 243, 'biologi': 99, 'rokok': 629, 'distribusi': 169, 'perata': 543, 'fungsionalisme': 211, 'dlawabit': 170, 'noda': 494, 'milu': 457, 'pemilukada': 531, 'tinjau': 751, 'pajak': 517, 'bea': 77, 'cukai': 141, 'retribusi': 626, 'usaha': 789, 'alqardh': 25, 'alhasan': 18, 'saham': 637, 'online': 506, 'suara': 697, 'masjidmusholla': 432, 'menteri': 451, 'budaya': 110, 'riset': 627, 'teknologi': 735, 'mendikbudristek': 447, 'guru': 228, 'tata': 732, 'kitab': 350, 'rancang': 614, 'senam': 662, 'yoga': 821, 'dukung': 177, 'juang': 317, 'palestina': 520, 'pinjam': 566, 'pinjol': 567, 'jihad': 314, 'khilafah': 344, 'jama': 302, 'wacana': 802, 'terbit': 743, 'perppu': 549, 'penuh': 539, 'syarat': 707, 'cryptocurrency': 139, 'talang': 716, 'sita': 684, 'pidanan': 557, 'rukun': 631, 'mahkamah': 421, 'agung': 6, 'fikih': 203, 'safari': 635, 'wukuf': 817, 'lempar': 401, 'jumrah': 319, 'alkoholetanol': 23, 'eksekusi': 185, 'beban': 79, 'rakyat': 609, 'komite': 357, 'ekonomi': 182, 'desa': 163, 'dasar': 157, 'jilbab': 315, 'prajurit': 579, 'korp': 368, 'tni': 755, 'prostitusi': 591, 'rekrutmen': 623, 'kpk': 371, 'priode': 583, 'minyak': 460, 'gas': 215, 'bumi': 115, 'perundangundangb': 552, 'usul': 791, 'ukhuwah': 777, 'pilar': 561, 'kuat': 378, 'prinsip': 581, 'ajar': 9, 'bingkai': 97, 'kompilasi': 358, 'iklim': 268, 'global': 226}\n"
     ]
    }
   ],
   "source": [
    "print(v.vocabulary_)"
   ]
  },
  {
   "cell_type": "code",
   "execution_count": 21,
   "metadata": {},
   "outputs": [],
   "source": [
    "feature = transform_output.toarray()"
   ]
  },
  {
   "cell_type": "code",
   "execution_count": 22,
   "metadata": {},
   "outputs": [
    {
     "name": "stdout",
     "output_type": "stream",
     "text": [
      "[[1.         0.41421356 0.41421356 ... 0.41421356 0.41421356 0.41421356]\n",
      " [0.         1.         0.41421356 ... 0.41421356 0.41421356 0.41421356]\n",
      " [0.         0.         1.         ... 0.41421356 0.41421356 0.41421356]\n",
      " ...\n",
      " [0.         0.         0.         ... 1.         0.41421356 0.4221139 ]\n",
      " [0.         0.         0.         ... 0.         1.         0.41421356]\n",
      " [0.         0.         0.         ... 0.         0.         1.        ]]\n"
     ]
    }
   ],
   "source": [
    "for i in range(len(empty_array[i])):\n",
    "    for j in range(len(empty_array[i])):\n",
    "        if (i != j):\n",
    "          if (empty_array[j][i] == 0):\n",
    "            similarity = 1 / (1 + calc_euclidian_distance(feature[i],feature[j]))\n",
    "            empty_array[i][j] = similarity\n",
    "          else:\n",
    "            continue\n",
    "        else:\n",
    "          empty_array[i][j] = 1\n",
    "\n",
    "print(empty_array)"
   ]
  },
  {
   "cell_type": "code",
   "execution_count": 23,
   "metadata": {},
   "outputs": [
    {
     "name": "stdout",
     "output_type": "stream",
     "text": [
      "PENGGUNAAN PLASENTA HEWAN HALAL UNTUK BAHAN OBAT  |  PENGGUNAAN PLASENTA HEWAN HALAL UNTUK BAHAN KOSMETIKA OBAT LUAR  |  1.0\n",
      "PENYERANGAN AMERIKA SERIKAT DAN SEKUTUNYA TERHADAP IRAK  |  FATWA PENYERANGAN AMERIKA SERIKAT DAN SEKUTUNYA TERHADAP IRAK  |  1.0\n"
     ]
    }
   ],
   "source": [
    "for i in range(len(empty_array[i])):\n",
    "    for j in range(len(empty_array[i])):\n",
    "        if(empty_array[i][j] > 0.7 and empty_array[i][j] < 1):\n",
    "            empty_array[i][j] = 1\n",
    "            print(df['Judul Fatwa'][i], ' | ', df['Judul Fatwa'][j], ' | ', empty_array[i][j])\n",
    "        else:\n",
    "            empty_array[i][j] = 0"
   ]
  },
  {
   "cell_type": "code",
   "execution_count": 24,
   "metadata": {},
   "outputs": [
    {
     "name": "stdout",
     "output_type": "stream",
     "text": [
      "AMIL ZAKAT  |  PENGELOLAAN ZAKAT 0.0\n",
      "BADAL THAWAF IFADHAH (PELAKSANAAN THAWAF IFADHAH OLEH ORANG LAIN)  |  TASWIYAH AL-MANHAJ (PENYAMAAN POLA PIKIR DALAM MASALAH-MASALAH KEAGAMAAN) 0.0\n",
      "PENGGUNAAN PLASENTA HEWAN HALAL UNTUK BAHAN OBAT  |  PENGGUNAAN ALKOHOL / ETANOL UNTUK BAHAN OBAT 0.0\n",
      "TRANSPLANTASI ORGAN DAN ATAU / JARINGAN TUBUH UNTUK DIRI SENDIRI  |  TRANSPLANTASI ORGAN DAN/ATAU JARINGAN TUBUH DARI PENDONOR HIDUP UNTUK ORANG LAIN 0.0\n",
      "PENDAFTARAN HAJI SAAT USIA DINI  |  PENDAFTARAN HAJI USIA DINI  |  0.0\n",
      "PRODUK VAKSIN COVID-19 DARI SINOVAC LIFE SCIENCES CO. LTD, CHINA DAN PT. BIO FARMA (PERSERO)  |  PRODUK VAKSIN COVID-19 DARI PT. BIOTIS PHARMACEUTICALS INDONESIA  |  0.0\n",
      "HUKUM PENGGUNAAN VAKSIN COVID-19 PRODUK SINOPHARM CNBG CHINA  |  HUKUM VAKSIN COVID-19 PRODUKSI CANSINO BIOLOGICS INC. CHINA  |  0.0\n",
      "HUKUM DAN PANDUAN PELAKSANAAN IBADAH KURBAN SAAT KONDISI WABAH PENYAKIT MULUT DAN KUKU  |  HUKUM DAN PANDUAN PELAKSANAAN IBADAH KURBAN SAAT MEREBAKNYA PENYAKIT LSD DAN PPR PADA HEWAN KURBAN  |  0.0\n",
      "SUMBANGAN DANA SOSIAL BERHADIAH (SDSB) I  |  SUMBANGAN DANA SOSIAL BERHADIAH (SDSB) II  |  0.0\n",
      "PENYUCIAN (TATHHIR) MENGGUNAKAN CARA DRY CLEANING  |  PENYUCIAN (TATHHIR ) MENGGUNAKAN CARA WET CLEANING  |  0.0\n"
     ]
    }
   ],
   "source": [
    "print(df['Judul Fatwa'][7], ' | ', df['Judul Fatwa'][345], empty_array[7][345])\n",
    "print(df['Judul Fatwa'][14], ' | ', df['Judul Fatwa'][240], empty_array[14][241])\n",
    "print(df['Judul Fatwa'][23], ' | ', df['Judul Fatwa'][56], empty_array[23][56])\n",
    "print(df['Judul Fatwa'][60], ' | ', df['Judul Fatwa'][306], empty_array[60][306])\n",
    "print(df['Judul Fatwa'][80], ' | ', df['Judul Fatwa'][314], ' | ', empty_array[80][314])\n",
    "print(df['Judul Fatwa'][84], ' | ', df['Judul Fatwa'][191], ' | ', empty_array[84][191])\n",
    "print(df['Judul Fatwa'][92], ' | ', df['Judul Fatwa'][194], ' | ', empty_array[92][194])\n",
    "print(df['Judul Fatwa'][96], ' | ', df['Judul Fatwa'][234], ' | ', empty_array[96][234])\n",
    "print(df['Judul Fatwa'][154], ' | ', df['Judul Fatwa'][155], ' | ', empty_array[154][155])\n",
    "print(df['Judul Fatwa'][203], ' | ', df['Judul Fatwa'][205], ' | ', empty_array[203][205])"
   ]
  },
  {
   "cell_type": "code",
   "execution_count": 25,
   "metadata": {},
   "outputs": [],
   "source": [
    "labeling = np.genfromtxt(\"labeling_fatwa2.csv\", delimiter=\",\")\n",
    "predict = empty_array.flatten()\n",
    "label = labeling.flatten()"
   ]
  },
  {
   "cell_type": "code",
   "execution_count": 26,
   "metadata": {},
   "outputs": [
    {
     "name": "stdout",
     "output_type": "stream",
     "text": [
      "Precision  1.0\n",
      "Accuracy 0.9991551246537396\n",
      "Recal 0.016129032258064516\n",
      "F1 0.031746031746031744\n"
     ]
    }
   ],
   "source": [
    "from sklearn.metrics import (\n",
    "    accuracy_score,\n",
    "    precision_score,\n",
    "    recall_score,\n",
    "    f1_score\n",
    ")\n",
    "\n",
    "precision = precision_score(label, predict)\n",
    "accuracy = accuracy_score(label, predict)\n",
    "recall = recall_score(label, predict)\n",
    "f1score = f1_score(label, predict)\n",
    "\n",
    "print('Precision ', precision)\n",
    "print('Accuracy', accuracy)\n",
    "print('Recal', recall)\n",
    "print('F1', f1score)"
   ]
  }
 ],
 "metadata": {
  "kernelspec": {
   "display_name": "nlp",
   "language": "python",
   "name": "python3"
  },
  "language_info": {
   "codemirror_mode": {
    "name": "ipython",
    "version": 3
   },
   "file_extension": ".py",
   "mimetype": "text/x-python",
   "name": "python",
   "nbconvert_exporter": "python",
   "pygments_lexer": "ipython3",
   "version": "3.12.2"
  }
 },
 "nbformat": 4,
 "nbformat_minor": 2
}
